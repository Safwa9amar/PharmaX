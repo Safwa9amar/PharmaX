{
 "cells": [
  {
   "cell_type": "code",
   "execution_count": 477,
   "metadata": {},
   "outputs": [],
   "source": [
    "import pyautogui\n",
    "import time\n",
    "import os\n",
    "import pandas as pd\n",
    "import pyperclip\n",
    "from tqdm import tqdm"
   ]
  },
  {
   "cell_type": "code",
   "execution_count": 476,
   "metadata": {},
   "outputs": [],
   "source": [
    "df = pd.read_json('drogsData.json')\n"
   ]
  },
  {
   "cell_type": "code",
   "execution_count": 79,
   "metadata": {},
   "outputs": [],
   "source": [
    "drogs = df.get('DROGUE')"
   ]
  },
  {
   "cell_type": "code",
   "execution_count": 7,
   "metadata": {},
   "outputs": [
    {
     "data": {
      "text/plain": [
       "'PEMETREXED DISODIQUE EXPRIME EN PEMETREXED'"
      ]
     },
     "execution_count": 7,
     "metadata": {},
     "output_type": "execute_result"
    }
   ],
   "source": [
    "drogs[1][3]"
   ]
  },
  {
   "cell_type": "code",
   "execution_count": 82,
   "metadata": {},
   "outputs": [],
   "source": [
    "def getParam(arr,index):\n",
    "    ParamName = []\n",
    "    for el in arr:\n",
    "        ParamName.append(el[index])\n",
    "    return ParamName\n",
    "\n",
    "def removeDplStr(arr):\n",
    "    newArr = []\n",
    "    # remove duplicated element in list \n",
    "    for i in arr:\n",
    "        if i not in newArr and type(i) == dict:\n",
    "            newArr.append(i)\n",
    "\n",
    "    return newArr\n",
    "\n",
    "def removeDuplicate(arr):\n",
    "    newArr = []\n",
    "    # remove duplicated element in list \n",
    "    for i in arr:\n",
    "        if i not in newArr:\n",
    "            newArr.append(i)\n",
    "\n",
    "    return newArr"
   ]
  },
  {
   "cell_type": "code",
   "execution_count": 83,
   "metadata": {},
   "outputs": [
    {
     "data": {
      "text/plain": [
       "257"
      ]
     },
     "execution_count": 83,
     "metadata": {},
     "output_type": "execute_result"
    }
   ],
   "source": [
    "# DCI\n",
    "DciName = getParam(drogs,3)\n",
    "DciName = removeDuplicate(DciName)\n",
    "\n",
    "DciName.index('GEMCITABINE')+1\n",
    "\n",
    "# removeDplStr(DciName)"
   ]
  },
  {
   "cell_type": "code",
   "execution_count": 84,
   "metadata": {},
   "outputs": [
    {
     "data": {
      "text/plain": [
       "18"
      ]
     },
     "execution_count": 84,
     "metadata": {},
     "output_type": "execute_result"
    }
   ],
   "source": [
    "# Presentation\n",
    "\n",
    "Presentation =[]\n",
    "\n",
    "for el in  getParam(drogs,-3):\n",
    "    Presentation.append(el['Forme'].replace('.','').strip())\n",
    "\n",
    "Presentation = removeDuplicate(Presentation)\n",
    "\n",
    "Presentation.index('PDRE SUSP BUV')+1\n",
    "# removeDplStr(DciName)"
   ]
  },
  {
   "cell_type": "code",
   "execution_count": 85,
   "metadata": {},
   "outputs": [
    {
     "data": {
      "text/plain": [
       "335"
      ]
     },
     "execution_count": 85,
     "metadata": {},
     "output_type": "execute_result"
    }
   ],
   "source": [
    "# Labo\n",
    "\n",
    "\n",
    "Labo =[]\n",
    "\n",
    "\n",
    "for el in  getParam(drogs,0):\n",
    "    # print(el)\n",
    "    if type(el) == dict:\n",
    "        Labo.append(el.get('Name'))\n",
    "    else:\n",
    "        Labo.append(el)\n",
    "\n",
    "\n",
    "Labo = removeDuplicate(Labo)\n",
    "\n",
    "Labo.index('NOVARTIS')+1\n",
    "len(Labo)"
   ]
  },
  {
   "cell_type": "code",
   "execution_count": 38,
   "metadata": {},
   "outputs": [],
   "source": [
    "data = removeDuplicate(getParam(drogs,0))\n",
    "sortedLaboDict = []\n",
    "sortedLaboStr = []\n",
    "\n",
    "for el in data:\n",
    "    if type(el) == dict:\n",
    "        sortedLaboDict.append(el)\n",
    "    else:\n",
    "        sortedLaboStr.append(el)"
   ]
  },
  {
   "cell_type": "code",
   "execution_count": 56,
   "metadata": {},
   "outputs": [],
   "source": [
    "FinalLadbosData = []\n",
    "for  string in sortedLaboStr:\n",
    "    for dictionary in sortedLaboDict:\n",
    "        if string == dictionary['Name']:\n",
    "            print(string, dictionary['Name'] , sep='--')\n",
    "            sortedLaboStr.remove(string)\n"
   ]
  },
  {
   "cell_type": "code",
   "execution_count": 58,
   "metadata": {},
   "outputs": [
    {
     "data": {
      "text/plain": [
       "336"
      ]
     },
     "execution_count": 58,
     "metadata": {},
     "output_type": "execute_result"
    }
   ],
   "source": [
    "dataLabo = removeDuplicate(sortedLaboDict)\n",
    "dataLabo.extend(sortedLaboStr)\n",
    "Labos = dataLabo\n",
    "data.index('NOVARTIS')\n",
    "\n",
    "len(Labos)"
   ]
  },
  {
   "cell_type": "code",
   "execution_count": 59,
   "metadata": {},
   "outputs": [],
   "source": [
    "LaboList1 = []\n",
    "LaboList2 = []\n",
    "LaboList3 = []\n",
    "LaboList4 = []\n",
    "LaboList5 = []\n",
    "LaboList6 = []\n",
    "LaboList7 = []\n",
    "LaboList8 = []\n",
    "\n",
    "for CleLabo , Labo in zip(range(1,len(Labos)+1) , Labos):\n",
    "    # print(Labo)\n",
    "    # break\n",
    "    if type(Labo) == dict:\n",
    "        LaboList1.append(CleLabo)\n",
    "        LaboList2.append(Labo['Name'])\n",
    "        LaboList3.append(Labo['Contacts'])\n",
    "        LaboList4.append(Labo['Tel'])\n",
    "        LaboList5.append('')\n",
    "        LaboList7.append('')\n",
    "        LaboList6.append(Labo['Adresse'])\n",
    "        LaboList8.append(Labo['Web'])\n",
    "    else:\n",
    "        LaboList1.append(CleLabo)\n",
    "        LaboList2.append(Labo)\n",
    "        LaboList3.append('')\n",
    "        LaboList4.append('')\n",
    "        LaboList5.append('')\n",
    "        LaboList7.append('')\n",
    "        LaboList6.append('')\n",
    "        LaboList8.append('')\n",
    "\n"
   ]
  },
  {
   "cell_type": "code",
   "execution_count": 60,
   "metadata": {},
   "outputs": [
    {
     "data": {
      "text/plain": [
       "98"
      ]
     },
     "execution_count": 60,
     "metadata": {},
     "output_type": "execute_result"
    }
   ],
   "source": [
    "LaboList2.index('Les Laboratoires FRATER-RAZES')+1\n",
    "# LaboList2"
   ]
  },
  {
   "cell_type": "code",
   "execution_count": null,
   "metadata": {},
   "outputs": [],
   "source": [
    "import pandas as pd\n",
    "\n",
    "col1 = \"CleLabo\"\n",
    "col2 = \"RaisonSociale\"\n",
    "col3 = \"Conatact\"\n",
    "col4 = \"Tel\"\n",
    "col5 = \"Fax\"\n",
    "col6 = \"Adresse\"\n",
    "col7 = \"EMail\"\n",
    "col8 = \"Web\"\n",
    "data = pd.DataFrame({col1:LaboList1,col2:LaboList2,col3:LaboList3,col4:LaboList4,col5:LaboList5,col6:LaboList6,col7:LaboList7,col8:LaboList8})\n",
    "data.to_excel('Labos.xlsx', sheet_name='sheet1', index=False)"
   ]
  },
  {
   "cell_type": "code",
   "execution_count": 86,
   "metadata": {},
   "outputs": [
    {
     "name": "stderr",
     "output_type": "stream",
     "text": [
      "100%|█████████▉| 6329/6330 [00:00<00:00, 24906.06it/s]\n"
     ]
    }
   ],
   "source": [
    "import random\n",
    "list1 = []\n",
    "list2 = []\n",
    "list22 = []\n",
    "list33 = []\n",
    "list3 = []\n",
    "list4 = []\n",
    "list44 = []\n",
    "list5 = []\n",
    "list6 = []\n",
    "list7 = []\n",
    "list8 = []\n",
    "list9 = []\n",
    "list10 = []\n",
    "list11 = []\n",
    "\n",
    "\n",
    "for drog, index in zip(tqdm(drogs), range(1, len(drogs))):\n",
    "    list1.append(index)\n",
    "    list2.append(drog[5]['Code DCI'].strip())\n",
    "    list22.append(drog[4]['Nom Commercial'].strip())\n",
    "    list3.append(drog[7]['Dosage'].strip())\n",
    "    list33.append(DciName.index(drog[3].strip())+1)\n",
    "    list4.append(Presentation.index(\n",
    "        str(drog[-3]['Forme'].replace('.', '').strip()))+1)\n",
    "    if type(drog[0]) == dict:\n",
    "        LaboIndex = LaboList2.index(drog[0]['Name']) + 1\n",
    "    if type(drog[0]) == str:\n",
    "        LaboIndex = LaboList2.index(drog[0]) + 1\n",
    "    # print(LaboIndex , drog[4]['Nom Commercial'])\n",
    "    list44.append(LaboIndex)\n",
    "\n",
    "    list5.append('FALSE')\n",
    "\n",
    "    list6.append(random.choice([\"1\", \"2\"]))\n",
    "\n",
    "    list7.append(f'{str(index)} / {drog[5][\"Code DCI\"].strip()}')\n",
    "    \n",
    "    list8.append('25-08-2022')\n",
    "    list9.append(drog[-1]['Conditionnement'].strip())\n",
    "    list10.append('FALSE')\n",
    "    list11.append('TRUE')\n"
   ]
  },
  {
   "cell_type": "code",
   "execution_count": 87,
   "metadata": {},
   "outputs": [
    {
     "name": "stdout",
     "output_type": "stream",
     "text": [
      "6329\n",
      "6329\n",
      "6329\n",
      "6329\n",
      "6329\n",
      "6329\n",
      "6329\n",
      "6329\n",
      "6329\n",
      "6329\n",
      "6329\n",
      "6329\n",
      "6329\n",
      "6329\n"
     ]
    }
   ],
   "source": [
    "print(len(list1))\n",
    "print(len(list2))\n",
    "print(len(list22))\n",
    "print(len(list3))\n",
    "print(len(list33))\n",
    "print(len(list4))\n",
    "print(len(list44))\n",
    "print(len(list5))\n",
    "print(len(list6))\n",
    "print(len(list7))\n",
    "print(len(list8))\n",
    "print(len(list9))\n",
    "print(len(list10))\n",
    "print(len(list11))"
   ]
  },
  {
   "cell_type": "code",
   "execution_count": 88,
   "metadata": {},
   "outputs": [],
   "source": [
    "# Dico Data\n",
    "col1 = 'CleDico'\n",
    "col2 = 'Code'\n",
    "col22 = 'Specialite'\n",
    "col3 = 'Dose'\n",
    "col33 = 'CleDCI'\n",
    "col4 = 'ClePresentation'\n",
    "col44 = 'CleLabo'\n",
    "col5 = 'bPsychothrope'\n",
    "col6 = 'CleListe'\n",
    "col7 = 'NumEnreg'\n",
    "col8 = 'DateDelivrance'\n",
    "col9 = 'Condit'\n",
    "col10 = 'bConcurrence'\n",
    "col11 = 'bAdmin'\n",
    "data = pd.DataFrame({col1: list1, col2: list2, col22: list22, col3: list3,col33: list33, col4: list4, col44: list44,\n",
    "                    col5: list5, col6: list6, col7: list7, col8: list8, col9: list9, col10: list10, col11: list11})\n",
    "data.to_excel('Dico.xlsx', sheet_name='sheet1', index=False)\n"
   ]
  },
  {
   "cell_type": "code",
   "execution_count": 89,
   "metadata": {},
   "outputs": [
    {
     "name": "stderr",
     "output_type": "stream",
     "text": [
      "100%|█████████▉| 6329/6330 [00:00<00:00, 140642.72it/s]\n"
     ]
    }
   ],
   "source": [
    "import random\n",
    "list1 = []\n",
    "list2 = []\n",
    "list22 = []\n",
    "list33 = []\n",
    "list3 = []\n",
    "list4 = []\n",
    "list44 = []\n",
    "list5 = []\n",
    "list6 = []\n",
    "list7 = []\n",
    "list8 = []\n",
    "list9 = []\n",
    "list10 = []\n",
    "list11 = []\n",
    "list12 = []\n",
    "list13 = []\n",
    "list14 = []\n",
    "\n",
    "\n",
    "# Dico Data\n",
    "col1 = 'CleProduit'\n",
    "col2 = 'Code'\n",
    "col22 = 'Designation'\n",
    "col3 = 'QuantiteAlerte'\n",
    "col33 = 'HorsStock'\n",
    "col4 = 'CleFamilleArticle'\n",
    "col44 = 'CleDico'\n",
    "col5 = 'PrixModifiable'\n",
    "col6 = 'TVA'\n",
    "col7 = 'Marge'\n",
    "col8 = 'SHP'\n",
    "col9 = 'CleEmplacement'\n",
    "col10 = 'CleStatutLot'\n",
    "col11 = 'bPerissable'\n",
    "col12 = 'TauxRemboursement'\n",
    "col13 = 'bAdmin'\n",
    "col14 = 'TarifRef'\n",
    "# ========================\n",
    "# ========================\n",
    "\n",
    "\n",
    "\n",
    "for drog, index in zip(tqdm(drogs), range(1, len(drogs))):\n",
    "    list1.append(index)\n",
    "    list2.append(drog[5]['Code DCI'].strip())\n",
    "    list22.append(f\"{drog[4]['Nom Commercial'].strip()} {drog[7]['Dosage'].strip()} {drog[-1]['Conditionnement'].strip()} {str(drog[-3]['Forme'].replace('.', '').strip())}\")\n",
    "    list3.append('0')\n",
    "    list33.append('False')\n",
    "    list4.append('1')\n",
    "    list44.append(index)\n",
    "    list5.append('FALSE')\n",
    "    list6.append('0')\n",
    "    list7.append('0')\n",
    "    list8.append('0.00 DA')\n",
    "    list9.append('1')\n",
    "    list10.append('1')\n",
    "    list11.append('-1')\n",
    "    list12.append('0')\n",
    "    list13.append('TRUE')\n",
    "    list14.append('')\n",
    "    # ===================\n",
    "    \n",
    "\n",
    "\n",
    "\n",
    "    \n"
   ]
  },
  {
   "cell_type": "code",
   "execution_count": 90,
   "metadata": {},
   "outputs": [],
   "source": [
    "\n",
    "data = pd.DataFrame({col1: list1, col2: list2, col22: list22, col3: list3,col33: list33, col4: list4, col44: list44,\n",
    "                    col5: list5, col6: list6, col7: list7, col8: list8, col9: list9, col10: list10, col11: list11, col12: list12, col13: list13, col14: list14})\n",
    "data.to_excel('Produits.xlsx', sheet_name='sheet1', index=False)\n"
   ]
  },
  {
   "cell_type": "code",
   "execution_count": 463,
   "metadata": {},
   "outputs": [],
   "source": [
    "import pandas as pd\n",
    "\n",
    "df = pd.read_excel (r'factures/1.xlsx')\n",
    "# df = pd.read_excel (r'lots.xlsx')\n",
    "df.columns = [\"desination\", \"qty\", \"P.U DA\", '%R','Prix AR','TVA','PPA','Lot', 'Shp','Peremp','THT']\n",
    "df.head()\n",
    "# display(df)\n",
    "data = df.to_dict()\n",
    "data_dict = []\n",
    "for index, row in df[df.columns].iterrows():\n",
    "    data_dict.append({\n",
    "            row.to_list()[0] : row.to_list()[1:]\n",
    "            })\n"
   ]
  },
  {
   "cell_type": "code",
   "execution_count": 469,
   "metadata": {},
   "outputs": [
    {
     "data": {
      "text/plain": [
       "'516'"
      ]
     },
     "execution_count": 469,
     "metadata": {},
     "output_type": "execute_result"
    }
   ],
   "source": [
    "findProductCle = []\n",
    "\n",
    "# arr = 'RHINATHIOL 5% SP ENF 100ML TOUX'.split(' ')\n",
    "# arr = 'aldomet'.upper().split(' ')\n",
    "# for string in arr:\n",
    "\n",
    "\n",
    "def findMatch(ProductStr, li):\n",
    "    Result = [f'{index} {match}' for index,\n",
    "              match in enumerate(li) if ProductStr in match]\n",
    "    # while len(Result > 1):\n",
    "    return Result\n",
    "\n",
    "\n",
    "def findProduct(Name):\n",
    "    arr = Name.upper().strip().split(' ')\n",
    "    count = 0\n",
    "    Find = findMatch(arr[0], list22)\n",
    "    arr.pop(0)\n",
    "    for el in arr:\n",
    "        el = el\n",
    "        if '%' in el:\n",
    "            try:\n",
    "                el = str(eval(f'{str(el).replace(\"%\",\"\")}/100'))\n",
    "            except ValueError:\n",
    "                el = el\n",
    "        ResutlA = findMatch(el, Find)\n",
    "        if len(ResutlA) == 0:\n",
    "            break\n",
    "        else:\n",
    "            Find = ResutlA\n",
    "        count += 1\n",
    "    return Find[0].split(' ')[count]\n",
    "\n",
    "\n",
    "# findProduct('ZETA 2%  T/15G Crème')\n",
    "findProduct('CORTISAF 0,1% Crème T/30G')\n",
    "# count\n"
   ]
  },
  {
   "cell_type": "code",
   "execution_count": 470,
   "metadata": {},
   "outputs": [
    {
     "data": {
      "text/plain": [
       "'CORTISAF 0.001 T/30G CRÈME'"
      ]
     },
     "execution_count": 470,
     "metadata": {},
     "output_type": "execute_result"
    }
   ],
   "source": [
    "list22[516]"
   ]
  },
  {
   "cell_type": "code",
   "execution_count": 471,
   "metadata": {},
   "outputs": [],
   "source": [
    "from dateutil import parser\n",
    "\n",
    "CleLot = []\n",
    "CleProduitArr = []\n",
    "qtyArr = []\n",
    "p_uArr = []\n",
    "rArr = []\n",
    "Prix_ARArr = []\n",
    "TvaArr = []\n",
    "PpaArr = []\n",
    "LotArr = []\n",
    "ShpArr = []\n",
    "PerempArr = []\n",
    "ThtArr = []\n",
    "CleEmplacement = []\n",
    "CleStatutLot = []\n",
    "CodeLot = []\n",
    "bBloque = []\n",
    "PrixVente = []\n",
    "# =====================================\n",
    "unAvailableProducts = []\n",
    "\n",
    "\n",
    "# =====================================\n",
    "dd = data_dict[12]\n",
    "# =====================================\n",
    "\n",
    "\n",
    "for index,el in enumerate(data_dict):\n",
    "    for key in el.items():\n",
    "        try:#USED TO DETECT UNAVAILABLE PRODUCT IN LIST\n",
    "            CleProduitArr.append(int(findProduct(key[0]))+1)\n",
    "            CleLot.append(index+1)\n",
    "\n",
    "            qtyArr.append(key[1][0])\n",
    "            p_uArr.append(key[1][1])\n",
    "            rArr.append(\"\")\n",
    "            Prix_ARArr.append(key[1][3])\n",
    "            TvaArr.append(key[1][4])\n",
    "            PpaArr.append(key[1][5])\n",
    "            LotArr.append(key[1][6])\n",
    "            ShpArr.append(key[1][7])\n",
    "            date = key[1][8]\n",
    "            \n",
    "            PerempArr.append(date)\n",
    "\n",
    "            ThtArr.append(key[1][9])\n",
    "            CleEmplacement.append(1)\n",
    "            CleStatutLot.append(1)\n",
    "            CodeLot.append('')\n",
    "            bBloque.append('FALSE')\n",
    "            PrixVente.append(str(key[1][5] + key[1][7]))\n",
    "        except:\n",
    "            unAvailableProducts.append(key[0])\n"
   ]
  },
  {
   "cell_type": "code",
   "execution_count": 472,
   "metadata": {},
   "outputs": [
    {
     "data": {
      "text/plain": [
       "['BIOFENAC LP 75MG CP B/30',\n",
       " 'CLOMICYNE 1% Pommade opht. T/5G',\n",
       " 'DICLOCED 1MG/ML COLLYRE FL/10ML']"
      ]
     },
     "execution_count": 472,
     "metadata": {},
     "output_type": "execute_result"
    }
   ],
   "source": [
    "unAvailableProducts"
   ]
  },
  {
   "cell_type": "code",
   "execution_count": 390,
   "metadata": {},
   "outputs": [
    {
     "name": "stdout",
     "output_type": "stream",
     "text": [
      "14\n",
      "14\n",
      "14\n",
      "14\n",
      "14\n",
      "14\n",
      "14\n",
      "14\n",
      "14\n",
      "14\n",
      "14\n",
      "14\n",
      "14\n",
      "14\n",
      "14\n",
      "14\n",
      "14\n"
     ]
    }
   ],
   "source": [
    "print(len(CleLot))\n",
    "print(len(CleProduitArr))\n",
    "print(len(qtyArr))\n",
    "print(len(p_uArr))\n",
    "print(len(rArr))\n",
    "print(len(Prix_ARArr))\n",
    "print(len(TvaArr))\n",
    "print(len(PpaArr))\n",
    "print(len(LotArr))\n",
    "print(len(ShpArr))\n",
    "print(len(PerempArr))\n",
    "print(len(ThtArr))\n",
    "print(len(CleEmplacement))\n",
    "print(len(CleStatutLot))\n",
    "print(len(CodeLot))\n",
    "print(len(bBloque))\n",
    "print(len(PrixVente))"
   ]
  },
  {
   "cell_type": "code",
   "execution_count": 391,
   "metadata": {},
   "outputs": [],
   "source": [
    "LotCol1 = 'CleLot'\n",
    "LotCol2 = 'NLot'\n",
    "LotCol3 = 'DateExp'\n",
    "LotCol4 = 'Quantite'\n",
    "LotCol5 = 'CleEmplacement'\n",
    "LotCol6 = 'CleProduit'\n",
    "LotCol7 = 'PrixAchat'\n",
    "LotCol8 = 'PrixVente'\n",
    "LotCol9 = 'SHP'\n",
    "LotCol10 = 'PPA'\n",
    "LotCol11 = 'Marge'\n",
    "LotCol12 = 'CleStatutLot'\n",
    "LotCol13 = 'bBloque'\n",
    "LotCol14 = 'CodeLot'"
   ]
  },
  {
   "cell_type": "code",
   "execution_count": 393,
   "metadata": {},
   "outputs": [],
   "source": [
    "\n",
    "data = pd.DataFrame({\n",
    "    LotCol1 : CleLot,\n",
    "    LotCol2 :LotArr ,\n",
    "    LotCol3 : PerempArr,\n",
    "    LotCol4 : qtyArr,\n",
    "    LotCol5 : CleEmplacement,\n",
    "    LotCol6 : CleProduitArr,\n",
    "    LotCol7 : p_uArr,\n",
    "    LotCol8 :PrixVente,\n",
    "    LotCol9 : ShpArr,\n",
    "    LotCol10 : PpaArr,\n",
    "    LotCol11 : rArr,\n",
    "    LotCol12 : CleStatutLot,\n",
    "    LotCol13 :bBloque ,\n",
    "    LotCol14 : CodeLot,\n",
    "\n",
    "})\n",
    "data.to_excel('lots/Lot.xlsx', sheet_name='sheet1', index=False)\n"
   ]
  }
 ],
 "metadata": {
  "kernelspec": {
   "display_name": "Python 3.9.12 ('.venv': venv)",
   "language": "python",
   "name": "python3"
  },
  "language_info": {
   "codemirror_mode": {
    "name": "ipython",
    "version": 3
   },
   "file_extension": ".py",
   "mimetype": "text/x-python",
   "name": "python",
   "nbconvert_exporter": "python",
   "pygments_lexer": "ipython3",
   "version": "3.9.12"
  },
  "orig_nbformat": 4,
  "vscode": {
   "interpreter": {
    "hash": "6cdec638393e9b8c0942c040c719a28b3b41e8f4bf424eede5feee8b71ae609d"
   }
  }
 },
 "nbformat": 4,
 "nbformat_minor": 2
}
