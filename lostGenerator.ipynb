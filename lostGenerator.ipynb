{
 "cells": [
  {
   "cell_type": "code",
   "execution_count": 1,
   "metadata": {},
   "outputs": [],
   "source": [
    "import pyautogui\n",
    "import time\n",
    "import os\n",
    "import pandas as pd\n",
    "import pyperclip\n",
    "from tqdm import tqdm"
   ]
  },
  {
   "cell_type": "code",
   "execution_count": 2,
   "metadata": {},
   "outputs": [],
   "source": [
    "df = pd.read_json('drogsData.json')"
   ]
  },
  {
   "cell_type": "code",
   "execution_count": 3,
   "metadata": {},
   "outputs": [],
   "source": [
    "drogs = df.get('DROGUE')"
   ]
  },
  {
   "cell_type": "code",
   "execution_count": 12,
   "metadata": {},
   "outputs": [],
   "source": [
    "def getParam(arr,index):\n",
    "    ParamName = []\n",
    "    for el in arr:\n",
    "        ParamName.append(el[index])\n",
    "    return ParamName\n",
    "\n",
    "def removeDplStr(arr):\n",
    "    newArr = []\n",
    "    # remove duplicated element in list \n",
    "    for i in arr:\n",
    "        if i not in newArr and type(i) == dict:\n",
    "            newArr.append(i)\n",
    "\n",
    "    return newArr\n",
    "\n",
    "def removeDuplicate(arr):\n",
    "    newArr = []\n",
    "    # remove duplicated element in list \n",
    "    for i in arr:\n",
    "        if i not in newArr:\n",
    "            newArr.append(i)\n",
    "\n",
    "    return newArr"
   ]
  },
  {
   "cell_type": "code",
   "execution_count": 13,
   "metadata": {},
   "outputs": [
    {
     "name": "stderr",
     "output_type": "stream",
     "text": [
      "100%|█████████▉| 6329/6330 [00:00<00:00, 421977.33it/s]\n"
     ]
    }
   ],
   "source": [
    "list22 = []\n",
    "\n",
    "for drog, index in zip(tqdm(drogs), range(1, len(drogs))):\n",
    "    list22.append(drog[4]['Nom Commercial'].strip())\n"
   ]
  },
  {
   "cell_type": "code",
   "execution_count": 23,
   "metadata": {},
   "outputs": [
    {
     "data": {
      "text/plain": [
       "'DERMOBACTER'"
      ]
     },
     "execution_count": 23,
     "metadata": {},
     "output_type": "execute_result"
    }
   ],
   "source": [
    "list22[561]"
   ]
  },
  {
   "cell_type": "code",
   "execution_count": 24,
   "metadata": {},
   "outputs": [],
   "source": [
    "import pandas as pd\n",
    "\n",
    "df = pd.read_excel (r'factures/1.xlsx')\n",
    "# df = pd.read_excel (r'lots.xlsx')\n",
    "df.columns = [\"desination\", \"qty\", \"P.U DA\", '%R','Prix AR','TVA','PPA','Lot', 'Shp','Peremp','THT']\n",
    "df.head()\n",
    "# display(df)\n",
    "data = df.to_dict()\n",
    "data_dict = []\n",
    "for index, row in df[df.columns].iterrows():\n",
    "    data_dict.append({\n",
    "            row.to_list()[0] : row.to_list()[1:]\n",
    "            })\n"
   ]
  },
  {
   "cell_type": "code",
   "execution_count": 25,
   "metadata": {},
   "outputs": [
    {
     "data": {
      "text/plain": [
       "'516'"
      ]
     },
     "execution_count": 25,
     "metadata": {},
     "output_type": "execute_result"
    }
   ],
   "source": [
    "findProductCle = []\n",
    "\n",
    "# arr = 'RHINATHIOL 5% SP ENF 100ML TOUX'.split(' ')\n",
    "# arr = 'aldomet'.upper().split(' ')\n",
    "# for string in arr:\n",
    "\n",
    "\n",
    "def findMatch(ProductStr, li):\n",
    "    Result = [f'{index} {match}' for index,\n",
    "              match in enumerate(li) if ProductStr in match]\n",
    "    # while len(Result > 1):\n",
    "    return Result\n",
    "\n",
    "\n",
    "def findProduct(Name):\n",
    "    arr = Name.upper().strip().split(' ')\n",
    "    count = 0\n",
    "    Find = findMatch(arr[0], list22)\n",
    "    arr.pop(0)\n",
    "    for el in arr:\n",
    "        el = el\n",
    "        if '%' in el:\n",
    "            try:\n",
    "                el = str(eval(f'{str(el).replace(\"%\",\"\")}/100'))\n",
    "            except ValueError:\n",
    "                el = el\n",
    "        ResutlA = findMatch(el, Find)\n",
    "        if len(ResutlA) == 0:\n",
    "            break\n",
    "        else:\n",
    "            Find = ResutlA\n",
    "        count += 1\n",
    "    return Find[0].split(' ')[count]\n",
    "\n",
    "\n",
    "# findProduct('ZETA 2%  T/15G Crème')\n",
    "findProduct('CORTISAF 0,1% Crème T/30G')\n",
    "# count\n"
   ]
  },
  {
   "cell_type": "code",
   "execution_count": 27,
   "metadata": {},
   "outputs": [],
   "source": [
    "from dateutil import parser\n",
    "\n",
    "CleLot = []\n",
    "CleProduitArr = []\n",
    "qtyArr = []\n",
    "p_uArr = []\n",
    "rArr = []\n",
    "Prix_ARArr = []\n",
    "TvaArr = []\n",
    "PpaArr = []\n",
    "LotArr = []\n",
    "ShpArr = []\n",
    "PerempArr = []\n",
    "ThtArr = []\n",
    "CleEmplacement = []\n",
    "CleStatutLot = []\n",
    "CodeLot = []\n",
    "bBloque = []\n",
    "PrixVente = []\n",
    "# =====================================\n",
    "unAvailableProducts = []\n",
    "\n",
    "\n",
    "# =====================================\n",
    "dd = data_dict[12]\n",
    "# =====================================\n",
    "\n",
    "\n",
    "for index,el in enumerate(data_dict):\n",
    "    for key in el.items():\n",
    "        try:#USED TO DETECT UNAVAILABLE PRODUCT IN LIST\n",
    "            CleProduitArr.append(int(findProduct(key[0]))+1)\n",
    "            CleLot.append(index+1)\n",
    "\n",
    "            qtyArr.append(key[1][0])\n",
    "            p_uArr.append(key[1][1])\n",
    "            rArr.append(\"\")\n",
    "            Prix_ARArr.append(key[1][3])\n",
    "            TvaArr.append(key[1][4])\n",
    "            PpaArr.append(key[1][5])\n",
    "            LotArr.append(key[1][6])\n",
    "            ShpArr.append(key[1][7])\n",
    "            date = key[1][8]\n",
    "            \n",
    "            PerempArr.append(date)\n",
    "\n",
    "            ThtArr.append(key[1][9])\n",
    "            CleEmplacement.append(1)\n",
    "            CleStatutLot.append(1)\n",
    "            CodeLot.append('')\n",
    "            bBloque.append('FALSE')\n",
    "            PrixVente.append(str(key[1][5] + key[1][7]))\n",
    "        except:\n",
    "            unAvailableProducts.append(key[0])\n"
   ]
  },
  {
   "cell_type": "code",
   "execution_count": 29,
   "metadata": {},
   "outputs": [
    {
     "data": {
      "text/plain": [
       "['BIOFENAC LP 75MG CP B/30',\n",
       " 'CLOMICYNE 1% Pommade opht. T/5G',\n",
       " 'DICLOCED 1MG/ML COLLYRE FL/10ML']"
      ]
     },
     "execution_count": 29,
     "metadata": {},
     "output_type": "execute_result"
    }
   ],
   "source": [
    "unAvailableProducts"
   ]
  },
  {
   "cell_type": "code",
   "execution_count": null,
   "metadata": {},
   "outputs": [],
   "source": [
    "LotCol1 = 'CleLot'\n",
    "LotCol2 = 'NLot'\n",
    "LotCol3 = 'DateExp'\n",
    "LotCol4 = 'Quantite'\n",
    "LotCol5 = 'CleEmplacement'\n",
    "LotCol6 = 'CleProduit'\n",
    "LotCol7 = 'PrixAchat'\n",
    "LotCol8 = 'PrixVente'\n",
    "LotCol9 = 'SHP'\n",
    "LotCol10 = 'PPA'\n",
    "LotCol11 = 'Marge'\n",
    "LotCol12 = 'CleStatutLot'\n",
    "LotCol13 = 'bBloque'\n",
    "LotCol14 = 'CodeLot'\n",
    "\n",
    "\n",
    "data = pd.DataFrame({\n",
    "    LotCol1 : CleLot,\n",
    "    LotCol2 :LotArr ,\n",
    "    LotCol3 : PerempArr,\n",
    "    LotCol4 : qtyArr,\n",
    "    LotCol5 : CleEmplacement,\n",
    "    LotCol6 : CleProduitArr,\n",
    "    LotCol7 : p_uArr,\n",
    "    LotCol8 :PrixVente,\n",
    "    LotCol9 : ShpArr,\n",
    "    LotCol10 : PpaArr,\n",
    "    LotCol11 : rArr,\n",
    "    LotCol12 : CleStatutLot,\n",
    "    LotCol13 :bBloque ,\n",
    "    LotCol14 : CodeLot,\n",
    "\n",
    "})\n",
    "data.to_excel('lots/Lot.xlsx', sheet_name='sheet1', index=False)\n"
   ]
  }
 ],
 "metadata": {
  "kernelspec": {
   "display_name": "Python 3.9.12 ('.venv': venv)",
   "language": "python",
   "name": "python3"
  },
  "language_info": {
   "codemirror_mode": {
    "name": "ipython",
    "version": 3
   },
   "file_extension": ".py",
   "mimetype": "text/x-python",
   "name": "python",
   "nbconvert_exporter": "python",
   "pygments_lexer": "ipython3",
   "version": "3.9.12"
  },
  "orig_nbformat": 4,
  "vscode": {
   "interpreter": {
    "hash": "6cdec638393e9b8c0942c040c719a28b3b41e8f4bf424eede5feee8b71ae609d"
   }
  }
 },
 "nbformat": 4,
 "nbformat_minor": 2
}
