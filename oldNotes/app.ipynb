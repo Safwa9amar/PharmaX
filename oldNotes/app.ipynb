{
 "cells": [
  {
   "cell_type": "code",
   "execution_count": 1,
   "metadata": {},
   "outputs": [],
   "source": [
    "from bs4 import BeautifulSoup\n",
    "import re\n",
    "import requests\n",
    "import pyautogui"
   ]
  },
  {
   "cell_type": "code",
   "execution_count": null,
   "metadata": {},
   "outputs": [],
   "source": [
    "url = \"http://www.pharmnet-dz.com/medic.aspx?id=2932\"\n",
    "reponse = requests.get(url)\n",
    "soup = BeautifulSoup(reponse.text, \"html.parser\")\n"
   ]
  },
  {
   "cell_type": "code",
   "execution_count": null,
   "metadata": {},
   "outputs": [],
   "source": [
    "dataFrame = soup.find(\"div\", {\"class\" : \"col-lg-7 col-md-7 col-sm-8 col-xs-12\"})\n"
   ]
  },
  {
   "cell_type": "code",
   "execution_count": null,
   "metadata": {},
   "outputs": [],
   "source": [
    "a = soup.findAll(\"a\")[58]\n",
    "Labo = a.attrs.get('href')\n",
    "url = f'https://www.pharmnet-dz.com/{Labo}'\n",
    "reponse = requests.get(url)\n",
    "Labosoup = BeautifulSoup(reponse.text, \"html.parser\")\n",
    "LaboData = Labosoup.findAll(\"div\", {\"class\" : \"col-lg-4 col-md-4 col-sm-4 col-xs-12\"})\n",
    "LaboData = LaboData[1].get_text().replace('\\n','')\n"
   ]
  },
  {
   "cell_type": "code",
   "execution_count": null,
   "metadata": {},
   "outputs": [],
   "source": [
    "adr =LaboData.find('Adresse')\n",
    "tel = LaboData.find('Tel')\n",
    "con = LaboData.find('Contacts')\n",
    "web = LaboData.find('Web')\n",
    "Adresse = LaboData[adr:tel]\n",
    "Tel = LaboData[tel:con]\n",
    "Contacts = LaboData[con:web]\n",
    "Web = LaboData[web:]\n"
   ]
  },
  {
   "cell_type": "code",
   "execution_count": null,
   "metadata": {},
   "outputs": [],
   "source": [
    "Adresse.replace('Adresse:','')\n",
    "Web.replace('Web:','')\n",
    "Tel.replace('Tel:','')\n",
    "Contacts.replace('Contacts:','')\n"
   ]
  },
  {
   "cell_type": "code",
   "execution_count": null,
   "metadata": {},
   "outputs": [],
   "source": [
    "dataFrame = dataFrame.get_text()\n",
    "arr = dataFrame.split('\\n')\n",
    "newArr = []\n",
    "for el in arr:\n",
    "    if len(el) > 0:\n",
    "        el = el.replace('\\n', '').strip()\n",
    "        el = el.split(':')\n",
    "        if len(el) > 1:\n",
    "            newArr.append({\n",
    "                el[0] : el[1]\n",
    "            })\n",
    "        else:\n",
    "            newArr.append(el[0])\n",
    "\n",
    "\n",
    "listA = list(filter(None,newArr))\n",
    "\n",
    "\n",
    "listA"
   ]
  },
  {
   "cell_type": "code",
   "execution_count": 126,
   "metadata": {},
   "outputs": [],
   "source": [
    "\n",
    "import time\n",
    "\n",
    "\n",
    "time.sleep(4)\n",
    "AddProductX, AddProductY = pyautogui.position()\n"
   ]
  },
  {
   "cell_type": "code",
   "execution_count": 128,
   "metadata": {},
   "outputs": [
    {
     "data": {
      "text/plain": [
       "255"
      ]
     },
     "execution_count": 128,
     "metadata": {},
     "output_type": "execute_result"
    }
   ],
   "source": [
    "AddProductY\n"
   ]
  },
  {
   "cell_type": "code",
   "execution_count": null,
   "metadata": {},
   "outputs": [],
   "source": [
    "pyautogui.moveTo(1097, -146)\n",
    "pyautogui.click()\n",
    "pyautogui.write(listA[4].get('Nom Commercial') + listA[-1].get('Conditionnement'))\n",
    "pyautogui.press('tab')\n",
    "pyautogui.press('tab')\n",
    "pyautogui.press('enter')\n",
    "pyautogui.press('down')\n",
    "pyautogui.press('enter')\n",
    "pyautogui.write(listA[3])\n",
    "pyautogui.press('enter')\n",
    "pyautogui.press('tab')\n",
    "pyautogui.press('tab')\n",
    "pyautogui.press('tab')\n",
    "pyautogui.write(listA[-2].get('Dosage'))\n",
    "pyautogui.press('tab')\n",
    "pyautogui.press('tab')\n",
    "pyautogui.press('enter')\n",
    "pyautogui.press('down')\n",
    "pyautogui.press('enter')\n",
    "pyautogui.write(listA[-3].get('Forme'))\n",
    "pyautogui.press('enter')\n",
    "pyautogui.press('tab')\n",
    "pyautogui.press('tab')\n",
    "pyautogui.press('tab')\n",
    "pyautogui.press('tab')\n",
    "pyautogui.press('tab')\n",
    "pyautogui.press('tab')\n",
    "pyautogui.press('tab')\n",
    "pyautogui.press('tab')\n",
    "pyautogui.press('enter')\n",
    "pyautogui.press('down')\n",
    "pyautogui.press('enter')\n",
    "pyautogui.write(listA[1])\n",
    "pyautogui.press('enter')\n",
    "\n",
    "\n",
    "pyautogui.moveTo(1581, 17)\n",
    "\n",
    "pyautogui.click()\n",
    "pyautogui.write(listA[5].get('Code DCI'))\n",
    "\n",
    "# pyautogui.press('enter')\n",
    "\n",
    "\n"
   ]
  },
  {
   "cell_type": "code",
   "execution_count": null,
   "metadata": {},
   "outputs": [],
   "source": [
    "soup = BeautifulSoup(reponse.text, \"html.parser\")\n",
    "labo = soup.find(\"div\", {\"class\": \"Labo\"}).get_text().strip()\n",
    "dci = soup.find(\"div\", {\"class\": \"DCI\"}).get_text().strip()\n",
    "NomCmplet = soup.find(\"div\", {\"class\": \"NomCommercial\"}).get_text().strip().split(' ')\n",
    "NomCommercial = NomCmplet[0]\n",
    "NomCommercial = NomCmplet[1]\n",
    "\n",
    "print('labo:',labo)\n",
    "print('DCI:',dci)\n",
    "print('specialité:',NomCmplet)"
   ]
  },
  {
   "cell_type": "code",
   "execution_count": null,
   "metadata": {},
   "outputs": [],
   "source": [
    "from tqdm import tqdm\n",
    "\n",
    "data = []\n",
    "for i in tqdm(range(1,9999)):\n",
    "    url = f'https://www.pharmnet-dz.com//vigniette/show.aspx?id={i}'\n",
    "    reponse = requests.get(url)\n",
    "    soup = BeautifulSoup(reponse.text, \"html.parser\")\n",
    "    labo = soup.find(\"div\", {\"class\": \"Labo\"}).get_text().strip()\n",
    "    dci = soup.find(\"div\", {\"class\": \"DCI\"}).get_text().strip()\n",
    "    NomCommercial = soup.find(\"div\", {\"class\": \"NomCommercial\"}).get_text().strip()\n",
    "    data.append({\n",
    "        'Labo' : labo,\n",
    "        'DCI' : dci,\n",
    "        'NomCommercial' : NomCommercial\n",
    "    })\n",
    "    "
   ]
  },
  {
   "cell_type": "code",
   "execution_count": null,
   "metadata": {},
   "outputs": [],
   "source": [
    "DataArr = [\n",
    "   {\n",
    "      \"id\":1,\n",
    "      \"DROGUE\":[\n",
    "         {\n",
    "            \"Name\":\"CIPLA LIMITED\",\n",
    "            \"Adresse\":\"\",\n",
    "            \"Tel\":\"  - \",\n",
    "            \"Contacts\":\" \",\n",
    "            \"Web\":\" www.cipla.com\"\n",
    "         },\n",
    "         \"N/D\",\n",
    "         \"CANCEROLOGIE\",\n",
    "         \"PACLITAXEL\",\n",
    "         {\n",
    "            \"Nom Commercial\":\" PACLITAX\"\n",
    "         },\n",
    "         {\n",
    "            \"Code DCI\":\" 05G100\"\n",
    "         },\n",
    "         {\n",
    "            \"Forme\":\" SOL. PERF.\"\n",
    "         },\n",
    "         {\n",
    "            \"Dosage\":\" 6MG/ML (30MG/5ML - 100MG/16,5ML - 300MG/50ML)\"\n",
    "         },\n",
    "         {\n",
    "            \"Conditionnement\":\" B/1FL/5ML -  B/1FL/16,7ML ET B/1FL. DE 50ML\"\n",
    "         }\n",
    "      ]\n",
    "   },\n",
    "   {\n",
    "      \"id\":2,\n",
    "      \"DROGUE\":[\n",
    "         {\n",
    "            \"Name\":\"ELI LILLY\",\n",
    "            \"Adresse\":\"Lots du val d'Hydra villa n°30  16035 Hydra Algérie\",\n",
    "            \"Tel\":\"  - \",\n",
    "            \"Contacts\":\" \",\n",
    "            \"Web\":\" www.lilly.fr\"\n",
    "         },\n",
    "         \"AUTRES\",\n",
    "         \"CANCEROLOGIE\",\n",
    "         \"PEMETREXED DISODIQUE EXPRIME EN PEMETREXED\",\n",
    "         {\n",
    "            \"Nom Commercial\":\" ALIMTA\"\n",
    "         },\n",
    "         {\n",
    "            \"Code DCI\":\" 05G102\"\n",
    "         },\n",
    "         {\n",
    "            \"Forme\":\" LYOPH. SOL. INJ.\"\n",
    "         },\n",
    "         {\n",
    "            \"Dosage\":\" 500MG/FL. DE PDRE.\"\n",
    "         },\n",
    "         {\n",
    "            \"Conditionnement\":\" B/01FL. DE PDRE.\"\n",
    "         }\n",
    "      ]\n",
    "   },\n",
    "   {\n",
    "      \"id\":1,\n",
    "      \"DROGUE\":[\n",
    "         {\n",
    "            \"Name\":\"CIPLA LIMITED\",\n",
    "            \"Adresse\":\"\",\n",
    "            \"Tel\":\"  - \",\n",
    "            \"Contacts\":\" \",\n",
    "            \"Web\":\" www.cipla.com\"\n",
    "         },\n",
    "         \"N/D\",\n",
    "         \"CANCEROLOGIE\",\n",
    "         \"PACLITAXEL\",\n",
    "         {\n",
    "            \"Nom Commercial\":\" PACLITAX\"\n",
    "         },\n",
    "         {\n",
    "            \"Code DCI\":\" 05G100\"\n",
    "         },\n",
    "         {\n",
    "            \"Forme\":\" SOL. PERF.\"\n",
    "         },\n",
    "         {\n",
    "            \"Dosage\":\" 6MG/ML (30MG/5ML - 100MG/16,5ML - 300MG/50ML)\"\n",
    "         },\n",
    "         {\n",
    "            \"Conditionnement\":\" B/1FL/5ML -  B/1FL/16,7ML ET B/1FL. DE 50ML\"\n",
    "         }\n",
    "      ]\n",
    "   },\n",
    "   {\n",
    "      \"id\":2,\n",
    "      \"DROGUE\":[\n",
    "         {\n",
    "            \"Name\":\"ELI LILLY\",\n",
    "            \"Adresse\":\"Lots du val d'Hydra villa n°30  16035 Hydra Algérie\",\n",
    "            \"Tel\":\"  - \",\n",
    "            \"Contacts\":\" \",\n",
    "            \"Web\":\" www.lilly.fr\"\n",
    "         },\n",
    "         \"AUTRES\",\n",
    "         \"CANCEROLOGIE\",\n",
    "         \"PEMETREXED DISODIQUE EXPRIME EN PEMETREXED\",\n",
    "         {\n",
    "            \"Nom Commercial\":\" ALIMTA\"\n",
    "         },\n",
    "         {\n",
    "            \"Code DCI\":\" 05G102\"\n",
    "         },\n",
    "         {\n",
    "            \"Forme\":\" LYOPH. SOL. INJ.\"\n",
    "         },\n",
    "         {\n",
    "            \"Dosage\":\" 500MG/FL. DE PDRE.\"\n",
    "         },\n",
    "         {\n",
    "            \"Conditionnement\":\" B/01FL. DE PDRE.\"\n",
    "         }\n",
    "      ]\n",
    "   },\n",
    "   {\n",
    "      \"id\":1,\n",
    "      \"DROGUE\":[\n",
    "         {\n",
    "            \"Name\":\"CIPLA LIMITED\",\n",
    "            \"Adresse\":\"\",\n",
    "            \"Tel\":\"  - \",\n",
    "            \"Contacts\":\" \",\n",
    "            \"Web\":\" www.cipla.com\"\n",
    "         },\n",
    "         \"N/D\",\n",
    "         \"CANCEROLOGIE\",\n",
    "         \"PACLITAXEL\",\n",
    "         {\n",
    "            \"Nom Commercial\":\" PACLITAX\"\n",
    "         },\n",
    "         {\n",
    "            \"Code DCI\":\" 05G100\"\n",
    "         },\n",
    "         {\n",
    "            \"Forme\":\" SOL. PERF.\"\n",
    "         },\n",
    "         {\n",
    "            \"Dosage\":\" 6MG/ML (30MG/5ML - 100MG/16,5ML - 300MG/50ML)\"\n",
    "         },\n",
    "         {\n",
    "            \"Conditionnement\":\" B/1FL/5ML -  B/1FL/16,7ML ET B/1FL. DE 50ML\"\n",
    "         }\n",
    "      ]\n",
    "   },\n",
    "   {\n",
    "      \"id\":2,\n",
    "      \"DROGUE\":[\n",
    "         {\n",
    "            \"Name\":\"ELI LILLY\",\n",
    "            \"Adresse\":\"Lots du val d'Hydra villa n°30  16035 Hydra Algérie\",\n",
    "            \"Tel\":\"  - \",\n",
    "            \"Contacts\":\" \",\n",
    "            \"Web\":\" www.lilly.fr\"\n",
    "         },\n",
    "         \"AUTRES\",\n",
    "         \"CANCEROLOGIE\",\n",
    "         \"PEMETREXED DISODIQUE EXPRIME EN PEMETREXED\",\n",
    "         {\n",
    "            \"Nom Commercial\":\" ALIMTA\"\n",
    "         },\n",
    "         {\n",
    "            \"Code DCI\":\" 05G102\"\n",
    "         },\n",
    "         {\n",
    "            \"Forme\":\" LYOPH. SOL. INJ.\"\n",
    "         },\n",
    "         {\n",
    "            \"Dosage\":\" 500MG/FL. DE PDRE.\"\n",
    "         },\n",
    "         {\n",
    "            \"Conditionnement\":\" B/01FL. DE PDRE.\"\n",
    "         }\n",
    "      ]\n",
    "   },\n",
    "   {\n",
    "      \"id\":1,\n",
    "      \"DROGUE\":[\n",
    "         {\n",
    "            \"Name\":\"CIPLA LIMITED\",\n",
    "            \"Adresse\":\"\",\n",
    "            \"Tel\":\"  - \",\n",
    "            \"Contacts\":\" \",\n",
    "            \"Web\":\" www.cipla.com\"\n",
    "         },\n",
    "         \"N/D\",\n",
    "         \"CANCEROLOGIE\",\n",
    "         \"PACLITAXEL\",\n",
    "         {\n",
    "            \"Nom Commercial\":\" PACLITAX\"\n",
    "         },\n",
    "         {\n",
    "            \"Code DCI\":\" 05G100\"\n",
    "         },\n",
    "         {\n",
    "            \"Forme\":\" SOL. PERF.\"\n",
    "         },\n",
    "         {\n",
    "            \"Dosage\":\" 6MG/ML (30MG/5ML - 100MG/16,5ML - 300MG/50ML)\"\n",
    "         },\n",
    "         {\n",
    "            \"Conditionnement\":\" B/1FL/5ML -  B/1FL/16,7ML ET B/1FL. DE 50ML\"\n",
    "         }\n",
    "      ]\n",
    "   },\n",
    "   {\n",
    "      \"id\":2,\n",
    "      \"DROGUE\":[\n",
    "         {\n",
    "            \"Name\":\"ELI LILLY\",\n",
    "            \"Adresse\":\"Lots du val d'Hydra villa n°30  16035 Hydra Algérie\",\n",
    "            \"Tel\":\"  - \",\n",
    "            \"Contacts\":\" \",\n",
    "            \"Web\":\" www.lilly.fr\"\n",
    "         },\n",
    "         \"AUTRES\",\n",
    "         \"CANCEROLOGIE\",\n",
    "         \"PEMETREXED DISODIQUE EXPRIME EN PEMETREXED\",\n",
    "         {\n",
    "            \"Nom Commercial\":\" ALIMTA\"\n",
    "         },\n",
    "         {\n",
    "            \"Code DCI\":\" 05G102\"\n",
    "         },\n",
    "         {\n",
    "            \"Forme\":\" LYOPH. SOL. INJ.\"\n",
    "         },\n",
    "         {\n",
    "            \"Dosage\":\" 500MG/FL. DE PDRE.\"\n",
    "         },\n",
    "         {\n",
    "            \"Conditionnement\":\" B/01FL. DE PDRE.\"\n",
    "         }\n",
    "      ]\n",
    "   },\n",
    "   {\n",
    "      \"id\":1,\n",
    "      \"DROGUE\":[\n",
    "         {\n",
    "            \"Name\":\"CIPLA LIMITED\",\n",
    "            \"Adresse\":\"\",\n",
    "            \"Tel\":\"  - \",\n",
    "            \"Contacts\":\" \",\n",
    "            \"Web\":\" www.cipla.com\"\n",
    "         },\n",
    "         \"N/D\",\n",
    "         \"CANCEROLOGIE\",\n",
    "         \"PACLITAXEL\",\n",
    "         {\n",
    "            \"Nom Commercial\":\" PACLITAX\"\n",
    "         },\n",
    "         {\n",
    "            \"Code DCI\":\" 05G100\"\n",
    "         },\n",
    "         {\n",
    "            \"Forme\":\" SOL. PERF.\"\n",
    "         },\n",
    "         {\n",
    "            \"Dosage\":\" 6MG/ML (30MG/5ML - 100MG/16,5ML - 300MG/50ML)\"\n",
    "         },\n",
    "         {\n",
    "            \"Conditionnement\":\" B/1FL/5ML -  B/1FL/16,7ML ET B/1FL. DE 50ML\"\n",
    "         }\n",
    "      ]\n",
    "   },\n",
    "   {\n",
    "      \"id\":2,\n",
    "      \"DROGUE\":[\n",
    "         {\n",
    "            \"Name\":\"ELI LILLY\",\n",
    "            \"Adresse\":\"Lots du val d'Hydra villa n°30  16035 Hydra Algérie\",\n",
    "            \"Tel\":\"  - \",\n",
    "            \"Contacts\":\" \",\n",
    "            \"Web\":\" www.lilly.fr\"\n",
    "         },\n",
    "         \"AUTRES\",\n",
    "         \"CANCEROLOGIE\",\n",
    "         \"PEMETREXED DISODIQUE EXPRIME EN PEMETREXED\",\n",
    "         {\n",
    "            \"Nom Commercial\":\" ALIMTA\"\n",
    "         },\n",
    "         {\n",
    "            \"Code DCI\":\" 05G102\"\n",
    "         },\n",
    "         {\n",
    "            \"Forme\":\" LYOPH. SOL. INJ.\"\n",
    "         },\n",
    "         {\n",
    "            \"Dosage\":\" 500MG/FL. DE PDRE.\"\n",
    "         },\n",
    "         {\n",
    "            \"Conditionnement\":\" B/01FL. DE PDRE.\"\n",
    "         }\n",
    "      ]\n",
    "   },\n",
    "   {\n",
    "      \"id\":1,\n",
    "      \"DROGUE\":[\n",
    "         {\n",
    "            \"Name\":\"CIPLA LIMITED\",\n",
    "            \"Adresse\":\"\",\n",
    "            \"Tel\":\"  - \",\n",
    "            \"Contacts\":\" \",\n",
    "            \"Web\":\" www.cipla.com\"\n",
    "         },\n",
    "         \"N/D\",\n",
    "         \"CANCEROLOGIE\",\n",
    "         \"PACLITAXEL\",\n",
    "         {\n",
    "            \"Nom Commercial\":\" PACLITAX\"\n",
    "         },\n",
    "         {\n",
    "            \"Code DCI\":\" 05G100\"\n",
    "         },\n",
    "         {\n",
    "            \"Forme\":\" SOL. PERF.\"\n",
    "         },\n",
    "         {\n",
    "            \"Dosage\":\" 6MG/ML (30MG/5ML - 100MG/16,5ML - 300MG/50ML)\"\n",
    "         },\n",
    "         {\n",
    "            \"Conditionnement\":\" B/1FL/5ML -  B/1FL/16,7ML ET B/1FL. DE 50ML\"\n",
    "         }\n",
    "      ]\n",
    "   },\n",
    "   {\n",
    "      \"id\":2,\n",
    "      \"DROGUE\":[\n",
    "         {\n",
    "            \"Name\":\"ELI LILLY\",\n",
    "            \"Adresse\":\"Lots du val d'Hydra villa n°30  16035 Hydra Algérie\",\n",
    "            \"Tel\":\"  - \",\n",
    "            \"Contacts\":\" \",\n",
    "            \"Web\":\" www.lilly.fr\"\n",
    "         },\n",
    "         \"AUTRES\",\n",
    "         \"CANCEROLOGIE\",\n",
    "         \"PEMETREXED DISODIQUE EXPRIME EN PEMETREXED\",\n",
    "         {\n",
    "            \"Nom Commercial\":\" ALIMTA\"\n",
    "         },\n",
    "         {\n",
    "            \"Code DCI\":\" 05G102\"\n",
    "         },\n",
    "         {\n",
    "            \"Forme\":\" LYOPH. SOL. INJ.\"\n",
    "         },\n",
    "         {\n",
    "            \"Dosage\":\" 500MG/FL. DE PDRE.\"\n",
    "         },\n",
    "         {\n",
    "            \"Conditionnement\":\" B/01FL. DE PDRE.\"\n",
    "         }\n",
    "      ]\n",
    "   },\n",
    "   {\n",
    "      \"id\":1,\n",
    "      \"DROGUE\":[\n",
    "         {\n",
    "            \"Name\":\"CIPLA LIMITED\",\n",
    "            \"Adresse\":\"\",\n",
    "            \"Tel\":\"  - \",\n",
    "            \"Contacts\":\" \",\n",
    "            \"Web\":\" www.cipla.com\"\n",
    "         },\n",
    "         \"N/D\",\n",
    "         \"CANCEROLOGIE\",\n",
    "         \"PACLITAXEL\",\n",
    "         {\n",
    "            \"Nom Commercial\":\" PACLITAX\"\n",
    "         },\n",
    "         {\n",
    "            \"Code DCI\":\" 05G100\"\n",
    "         },\n",
    "         {\n",
    "            \"Forme\":\" SOL. PERF.\"\n",
    "         },\n",
    "         {\n",
    "            \"Dosage\":\" 6MG/ML (30MG/5ML - 100MG/16,5ML - 300MG/50ML)\"\n",
    "         },\n",
    "         {\n",
    "            \"Conditionnement\":\" B/1FL/5ML -  B/1FL/16,7ML ET B/1FL. DE 50ML\"\n",
    "         }\n",
    "      ]\n",
    "   },\n",
    "   {\n",
    "      \"id\":2,\n",
    "      \"DROGUE\":[\n",
    "         {\n",
    "            \"Name\":\"ELI LILLY\",\n",
    "            \"Adresse\":\"Lots du val d'Hydra villa n°30  16035 Hydra Algérie\",\n",
    "            \"Tel\":\"  - \",\n",
    "            \"Contacts\":\" \",\n",
    "            \"Web\":\" www.lilly.fr\"\n",
    "         },\n",
    "         \"AUTRES\",\n",
    "         \"CANCEROLOGIE\",\n",
    "         \"PEMETREXED DISODIQUE EXPRIME EN PEMETREXED\",\n",
    "         {\n",
    "            \"Nom Commercial\":\" ALIMTA\"\n",
    "         },\n",
    "         {\n",
    "            \"Code DCI\":\" 05G102\"\n",
    "         },\n",
    "         {\n",
    "            \"Forme\":\" LYOPH. SOL. INJ.\"\n",
    "         },\n",
    "         {\n",
    "            \"Dosage\":\" 500MG/FL. DE PDRE.\"\n",
    "         },\n",
    "         {\n",
    "            \"Conditionnement\":\" B/01FL. DE PDRE.\"\n",
    "         }\n",
    "      ]\n",
    "   },\n",
    "   {\n",
    "      \"id\":3,\n",
    "      \"DROGUE\":[\n",
    "         \"MUSTAFA NEVZAT\",\n",
    "         \"A.T.U.(AUTORISATION TEMPORAIRE D'UTILISATION )\",\n",
    "         \"CANCEROLOGIE\",\n",
    "         \"PEMETREXED DISODIQUE EXPRIME EN PEMETREXED\",\n",
    "         {\n",
    "            \"Nom Commercial\":\" PREXET\"\n",
    "         },\n",
    "         {\n",
    "            \"Code DCI\":\" 05G102\"\n",
    "         },\n",
    "         {\n",
    "            \"Forme\":\" LYOPH. SOL. INJ.\"\n",
    "         },\n",
    "         {\n",
    "            \"Dosage\":\" 500MG/FL. DE PDRE.\"\n",
    "         },\n",
    "         {\n",
    "            \"Conditionnement\":\" B/01 FL. DE PDRE.\"\n",
    "         }\n",
    "      ]\n",
    "   },\n",
    "   {\n",
    "      \"id\":4,\n",
    "      \"DROGUE\":[\n",
    "         \"INTAS PHARMACEUTICALS LTD\",\n",
    "         \"N/D\",\n",
    "         \"CANCEROLOGIE\",\n",
    "         \"EPIRUBICINE CHLORHYDRATE\",\n",
    "         {\n",
    "            \"Nom Commercial\":\" EPINTAS\"\n",
    "         },\n",
    "         {\n",
    "            \"Code DCI\":\" 05G103\"\n",
    "         },\n",
    "         {\n",
    "            \"Forme\":\" SOL. PERF.\"\n",
    "         },\n",
    "         {\n",
    "            \"Dosage\":\" 2MG/ML (10MG/5ML  ET 50MG/25ML)\"\n",
    "         },\n",
    "         {\n",
    "            \"Conditionnement\":\" B/01FL. DE 5ML ET B/01FL. DE 25ML\"\n",
    "         }\n",
    "      ]\n",
    "   },\n",
    "   {\n",
    "      \"id\":5,\n",
    "      \"DROGUE\":[\n",
    "         \"HIKMA PHARMACEUTICALS\",\n",
    "         \"N/D\",\n",
    "         \"CANCEROLOGIE\",\n",
    "         \"EPIRUBICINE CHLORHYDRATE\",\n",
    "         {\n",
    "            \"Nom Commercial\":\" PIRUCIN\"\n",
    "         },\n",
    "         {\n",
    "            \"Code DCI\":\" 05G103\"\n",
    "         },\n",
    "         {\n",
    "            \"Forme\":\" SOL. PERF.\"\n",
    "         },\n",
    "         {\n",
    "            \"Dosage\":\" 2MG/ML (10MG/5ML - 50MG/25ML ET 200MG/100ML)\"\n",
    "         },\n",
    "         {\n",
    "            \"Conditionnement\":\" B/01FL. DE 5ML - B/01FL. DE 25ML ET B/01FL. DE 100ML\"\n",
    "         }\n",
    "      ]\n",
    "   },\n",
    "   {\n",
    "      \"id\":6,\n",
    "      \"DROGUE\":[\n",
    "         {\n",
    "            \"Name\":\"BAXTER\",\n",
    "            \"Adresse\":\"Lotissement Boursas n°32 Haut site Hydra,Ben Aknoune, Alger, Algérie\",\n",
    "            \"Tel\":\" 023230366 - \",\n",
    "            \"Contacts\":\" \",\n",
    "            \"Web\":\" www.baxter.fr\"\n",
    "         },\n",
    "         \"N/D\",\n",
    "         \"CANCEROLOGIE\",\n",
    "         \"CYCLOPHOSPHAMIDE MONOHYDRATEE EXPRIME EN CYCLOPHOSPHAMIDE\",\n",
    "         {\n",
    "            \"Nom Commercial\":\" ENDOXAN\"\n",
    "         },\n",
    "         {\n",
    "            \"Code DCI\":\" 05G104\"\n",
    "         },\n",
    "         {\n",
    "            \"Forme\":\" PDRE. SOL. INJ.\"\n",
    "         },\n",
    "         {\n",
    "            \"Dosage\":\" 1G/FL. DE PDRE\"\n",
    "         },\n",
    "         {\n",
    "            \"Conditionnement\":\" B/01FL. DE PDRE. DE CONTENANCE 75ML\"\n",
    "         }\n",
    "      ]\n",
    "   },\n",
    "   {\n",
    "      \"id\":7,\n",
    "      \"DROGUE\":[\n",
    "         {\n",
    "            \"Name\":\"BAXTER\",\n",
    "            \"Adresse\":\"Lotissement Boursas n°32 Haut site Hydra,Ben Aknoune, Alger, Algérie\",\n",
    "            \"Tel\":\" 023230366 - \",\n",
    "            \"Contacts\":\" \",\n",
    "            \"Web\":\" www.baxter.fr\"\n",
    "         },\n",
    "         \"N/D\",\n",
    "         \"CANCEROLOGIE\",\n",
    "         \"IFOSFAMIDE\",\n",
    "         {\n",
    "            \"Nom Commercial\":\" HOLOXAN\"\n",
    "         },\n",
    "         {\n",
    "            \"Code DCI\":\" 05G106\"\n",
    "         },\n",
    "         {\n",
    "            \"Forme\":\" PDRE. SOL. INJ.\"\n",
    "         },\n",
    "         {\n",
    "            \"Dosage\":\" 1G/FL. DE PDRE.\"\n",
    "         },\n",
    "         {\n",
    "            \"Conditionnement\":\" B/01FL. DE PDRE. DE CONTENANCE DE 30ML\"\n",
    "         }\n",
    "      ]\n",
    "   },\n",
    "   {\n",
    "      \"id\":8,\n",
    "      \"DROGUE\":[\n",
    "         \"CIPLA LIMITED\",\n",
    "         \"N/D\",\n",
    "         \"CANCEROLOGIE\",\n",
    "         \"CAPECITABINE\",\n",
    "         {\n",
    "            \"Nom Commercial\":\" CAPEGARD\"\n",
    "         },\n",
    "         {\n",
    "            \"Code DCI\":\" 05G108\"\n",
    "         },\n",
    "         {\n",
    "            \"Forme\":\" COMP. PELLI.\"\n",
    "         },\n",
    "         {\n",
    "            \"Dosage\":\" 500MG\"\n",
    "         },\n",
    "         {\n",
    "            \"Conditionnement\":\" B/10\"\n",
    "         }\n",
    "      ]\n",
    "   },\n",
    "   {\n",
    "      \"id\":9,\n",
    "      \"DROGUE\":[\n",
    "         \"INTAS PHARMACEUTICALS LTD\",\n",
    "         \"N/D\",\n",
    "         \"CANCEROLOGIE\",\n",
    "         \"CAPECITABINE\",\n",
    "         {\n",
    "            \"Nom Commercial\":\" CAPEMAX\"\n",
    "         },\n",
    "         {\n",
    "            \"Code DCI\":\" 05G108\"\n",
    "         },\n",
    "         {\n",
    "            \"Forme\":\" COMP. PELLI.\"\n",
    "         },\n",
    "         {\n",
    "            \"Dosage\":\" 500MG\"\n",
    "         },\n",
    "         {\n",
    "            \"Conditionnement\":\" B/120\"\n",
    "         }\n",
    "      ]\n",
    "   },\n",
    "   {\n",
    "      \"id\":10,\n",
    "      \"DROGUE\":[\n",
    "         {\n",
    "            \"Name\":\"ROCHE\",\n",
    "            \"Adresse\":\"39, Rue Bousmaha Khaled Ahmed (ex 39, Rue BELKACEM Amani) Hydra, Alger, Algérie.\",\n",
    "            \"Tel\":\" +213 (0) 21 60 10 79+213 (0) 21 60 10 74  - \",\n",
    "            \"Contacts\":\" \",\n",
    "            \"Web\":\" www.roche.fr\"\n",
    "         },\n",
    "         \"AUTRES\",\n",
    "         \"CANCEROLOGIE\",\n",
    "         \"CAPECITABINE\",\n",
    "         {\n",
    "            \"Nom Commercial\":\" XELODA\"\n",
    "         },\n",
    "         {\n",
    "            \"Code DCI\":\" 05G108\"\n",
    "         },\n",
    "         {\n",
    "            \"Forme\":\" COMP. PELLI.\"\n",
    "         },\n",
    "         {\n",
    "            \"Dosage\":\" 500MG\"\n",
    "         },\n",
    "         {\n",
    "            \"Conditionnement\":\" B/120\"\n",
    "         }\n",
    "      ]\n",
    "   },\n",
    "   {\n",
    "      \"id\":11,\n",
    "      \"DROGUE\":[\n",
    "         {\n",
    "            \"Name\":\"EBEWE PHARMA\",\n",
    "            \"Adresse\":\"\",\n",
    "            \"Tel\":\"  - \",\n",
    "            \"Contacts\":\" \",\n",
    "            \"Web\":\" \"\n",
    "         },\n",
    "         \"AUTRES\",\n",
    "         \"CANCEROLOGIE\",\n",
    "         \"CISPLATINE\",\n",
    "         {\n",
    "            \"Nom Commercial\":\" CISPLATIN EBEWE\"\n",
    "         },\n",
    "         {\n",
    "            \"Code DCI\":\" 05G110\"\n",
    "         },\n",
    "         {\n",
    "            \"Forme\":\" SOL. INJ.\"\n",
    "         },\n",
    "         {\n",
    "            \"Dosage\":\" 0,5MG/ML (25MG/50ML) - (50MG/100ML)\"\n",
    "         },\n",
    "         {\n",
    "            \"Conditionnement\":\" B/1FL DE 50 ML  - B/1FL. DE 100ML\"\n",
    "         }\n",
    "      ]\n",
    "   },\n",
    "   {\n",
    "      \"id\":12,\n",
    "      \"DROGUE\":[\n",
    "         {\n",
    "            \"Name\":\"MYLAN\",\n",
    "            \"Adresse\":\"\",\n",
    "            \"Tel\":\"  - \",\n",
    "            \"Contacts\":\" \",\n",
    "            \"Web\":\" www.mylan.fr\"\n",
    "         },\n",
    "         \"A.T.U.(AUTORISATION TEMPORAIRE D'UTILISATION )\",\n",
    "         \"CANCEROLOGIE\",\n",
    "         \"CISPLATINE\",\n",
    "         {\n",
    "            \"Nom Commercial\":\" CISPLATINE MYLAN\"\n",
    "         },\n",
    "         {\n",
    "            \"Code DCI\":\" 05G111\"\n",
    "         },\n",
    "         {\n",
    "            \"Forme\":\" SOL. INJ.\"\n",
    "         },\n",
    "         {\n",
    "            \"Dosage\":\" 1MG/ML (OU 10MG/10ML - 25MG/25ML - 50MG/50ML)\"\n",
    "         },\n",
    "         {\n",
    "            \"Conditionnement\":\" FL./10ML - FL./25ML - FL./50ML\"\n",
    "         }\n",
    "      ]\n",
    "   },\n",
    "   {\n",
    "      \"id\":13,\n",
    "      \"DROGUE\":[\n",
    "         {\n",
    "            \"Name\":\"PIERRE FABRE MEDICAMENT\",\n",
    "            \"Adresse\":\"Lotissement El Kadous lot N° 10 (Immeuble Siemens) Moutchatchou, Haut site d’Hydr\",\n",
    "            \"Tel\":\" +21 37 70 11 47 69 - \",\n",
    "            \"Contacts\":\" \",\n",
    "            \"Web\":\" www.pierre-fabre.com/fr/implantations/algerie\"\n",
    "         },\n",
    "         \"N/D\",\n",
    "         \"CANCEROLOGIE\",\n",
    "         \"VINORELBINE\",\n",
    "         {\n",
    "            \"Nom Commercial\":\" NAVELBINE\"\n",
    "         },\n",
    "         {\n",
    "            \"Code DCI\":\" 05G114\"\n",
    "         },\n",
    "         {\n",
    "            \"Forme\":\" CAPS. MOLLE\"\n",
    "         },\n",
    "         {\n",
    "            \"Dosage\":\" 20MG\"\n",
    "         },\n",
    "         {\n",
    "            \"Conditionnement\":\" B/1\"\n",
    "         }\n",
    "      ]\n",
    "   },\n",
    "   {\n",
    "      \"id\":14,\n",
    "      \"DROGUE\":[\n",
    "         {\n",
    "            \"Name\":\"PIERRE FABRE MEDICAMENT\",\n",
    "            \"Adresse\":\"Lotissement El Kadous lot N° 10 (Immeuble Siemens) Moutchatchou, Haut site d’Hydr\",\n",
    "            \"Tel\":\" +21 37 70 11 47 69 - \",\n",
    "            \"Contacts\":\" \",\n",
    "            \"Web\":\" www.pierre-fabre.com/fr/implantations/algerie\"\n",
    "         },\n",
    "         \"N/D\",\n",
    "         \"CANCEROLOGIE\",\n",
    "         \"VINORELBINE\",\n",
    "         {\n",
    "            \"Nom Commercial\":\" NAVELBINE\"\n",
    "         },\n",
    "         {\n",
    "            \"Code DCI\":\" 05G115\"\n",
    "         },\n",
    "         {\n",
    "            \"Forme\":\" CAPS. MOLLE\"\n",
    "         },\n",
    "         {\n",
    "            \"Dosage\":\" 30MG\"\n",
    "         },\n",
    "         {\n",
    "            \"Conditionnement\":\" B/1\"\n",
    "         }\n",
    "      ]\n",
    "   },\n",
    "   {\n",
    "      \"id\":15,\n",
    "      \"DROGUE\":[\n",
    "         \"EBEWE PHARMA\",\n",
    "         \"AUTRES\",\n",
    "         \"CANCEROLOGIE\",\n",
    "         \"METHOTREXATE\",\n",
    "         {\n",
    "            \"Nom Commercial\":\" METHOTREXAT EBEWE\"\n",
    "         },\n",
    "         {\n",
    "            \"Code DCI\":\" 05G124\"\n",
    "         },\n",
    "         {\n",
    "            \"Forme\":\" SOL. INJ.\"\n",
    "         },\n",
    "         {\n",
    "            \"Dosage\":\" 10MG/ML (OU 50MG/5ML)\"\n",
    "         },\n",
    "         {\n",
    "            \"Conditionnement\":\" B/1FL/5 ML\"\n",
    "         }\n",
    "      ]\n",
    "   },\n",
    "   {\n",
    "      \"id\":16,\n",
    "      \"DROGUE\":[\n",
    "         {\n",
    "            \"Name\":\"MYLAN\",\n",
    "            \"Adresse\":\"\",\n",
    "            \"Tel\":\"  - \",\n",
    "            \"Contacts\":\" \",\n",
    "            \"Web\":\" www.mylan.fr\"\n",
    "         },\n",
    "         \"N/D\",\n",
    "         \"CANCEROLOGIE\",\n",
    "         \"METHOTREXATE\",\n",
    "         {\n",
    "            \"Nom Commercial\":\" METHOTREXATE MYLAN\"\n",
    "         },\n",
    "         {\n",
    "            \"Code DCI\":\" 05G126\"\n",
    "         },\n",
    "         {\n",
    "            \"Forme\":\" SOL. INJ.\"\n",
    "         },\n",
    "         {\n",
    "            \"Dosage\":\" 100MG/ML (1G/10ML - 5G/50ML)\"\n",
    "         },\n",
    "         {\n",
    "            \"Conditionnement\":\" B/10FL. DE 10ML ET B/10FL DE /50ML\"\n",
    "         }\n",
    "      ]\n",
    "   },\n",
    "   {\n",
    "      \"id\":17,\n",
    "      \"DROGUE\":[\n",
    "         \"CIPLA LIMITED\",\n",
    "         \"N/D\",\n",
    "         \"CANCEROLOGIE\",\n",
    "         \"TEMOZOLOMIDE\",\n",
    "         {\n",
    "            \"Nom Commercial\":\" TEMOSIDE\"\n",
    "         },\n",
    "         {\n",
    "            \"Code DCI\":\" 05G130\"\n",
    "         },\n",
    "         {\n",
    "            \"Forme\":\" GLES.\"\n",
    "         },\n",
    "         {\n",
    "            \"Dosage\":\" 100MG\"\n",
    "         },\n",
    "         {\n",
    "            \"Conditionnement\":\" B/05\"\n",
    "         }\n",
    "      ]\n",
    "   },\n",
    "   {\n",
    "      \"id\":18,\n",
    "      \"DROGUE\":[\n",
    "         \"CIPLA LIMITED\",\n",
    "         \"N/D\",\n",
    "         \"CANCEROLOGIE\",\n",
    "         \"TEMOZOLOMIDE\",\n",
    "         {\n",
    "            \"Nom Commercial\":\" TEMOSIDE\"\n",
    "         },\n",
    "         {\n",
    "            \"Code DCI\":\" 05G131\"\n",
    "         },\n",
    "         {\n",
    "            \"Forme\":\" GLES.\"\n",
    "         },\n",
    "         {\n",
    "            \"Dosage\":\" 250MG\"\n",
    "         },\n",
    "         {\n",
    "            \"Conditionnement\":\" B/05\"\n",
    "         }\n",
    "      ]\n",
    "   },\n",
    "   {\n",
    "      \"id\":19,\n",
    "      \"DROGUE\":[\n",
    "         {\n",
    "            \"Name\":\"BAXTER\",\n",
    "            \"Adresse\":\"Lotissement Boursas n°32 Haut site Hydra,Ben Aknoune, Alger, Algérie\",\n",
    "            \"Tel\":\" 023230366 - \",\n",
    "            \"Contacts\":\" \",\n",
    "            \"Web\":\" www.baxter.fr\"\n",
    "         },\n",
    "         \"N/D\",\n",
    "         \"CANCEROLOGIE\",\n",
    "         \"IFOSFAMIDE\",\n",
    "         {\n",
    "            \"Nom Commercial\":\" HOLOXAN\"\n",
    "         },\n",
    "         {\n",
    "            \"Code DCI\":\" 05G138\"\n",
    "         },\n",
    "         {\n",
    "            \"Forme\":\" PDRE. SOL. INJ.\"\n",
    "         },\n",
    "         {\n",
    "            \"Dosage\":\" 2G/FL. DE PDRE.\"\n",
    "         },\n",
    "         {\n",
    "            \"Conditionnement\":\" B/01FL. DE PDRE. DE CONTENANCE DE 50ML\"\n",
    "         }\n",
    "      ]\n",
    "   }\n",
    "]"
   ]
  },
  {
   "cell_type": "code",
   "execution_count": null,
   "metadata": {},
   "outputs": [
    {
     "name": "stderr",
     "output_type": "stream",
     "text": [
      "  0%|          | 3/6999 [00:08<5:17:00,  2.72s/it]"
     ]
    },
    {
     "name": "stdout",
     "output_type": "stream",
     "text": [
      "<class 'IndexError'>\n"
     ]
    },
    {
     "name": "stderr",
     "output_type": "stream",
     "text": [
      "  0%|          | 4/6999 [00:10<5:09:28,  2.65s/it]"
     ]
    },
    {
     "name": "stdout",
     "output_type": "stream",
     "text": [
      "<class 'IndexError'>\n"
     ]
    },
    {
     "name": "stderr",
     "output_type": "stream",
     "text": [
      "  0%|          | 5/6999 [00:13<4:57:28,  2.55s/it]"
     ]
    },
    {
     "name": "stdout",
     "output_type": "stream",
     "text": [
      "<class 'IndexError'>\n"
     ]
    },
    {
     "name": "stderr",
     "output_type": "stream",
     "text": [
      "  0%|          | 8/6999 [00:21<5:06:29,  2.63s/it]"
     ]
    },
    {
     "name": "stdout",
     "output_type": "stream",
     "text": [
      "<class 'IndexError'>\n"
     ]
    },
    {
     "name": "stderr",
     "output_type": "stream",
     "text": [
      "  0%|          | 9/6999 [00:23<5:05:20,  2.62s/it]"
     ]
    },
    {
     "name": "stdout",
     "output_type": "stream",
     "text": [
      "<class 'IndexError'>\n"
     ]
    },
    {
     "name": "stderr",
     "output_type": "stream",
     "text": [
      "  0%|          | 15/6999 [00:39<4:55:56,  2.54s/it]"
     ]
    },
    {
     "name": "stdout",
     "output_type": "stream",
     "text": [
      "<class 'IndexError'>\n"
     ]
    },
    {
     "name": "stderr",
     "output_type": "stream",
     "text": [
      "  0%|          | 17/6999 [00:44<5:10:55,  2.67s/it]"
     ]
    },
    {
     "name": "stdout",
     "output_type": "stream",
     "text": [
      "<class 'IndexError'>\n"
     ]
    },
    {
     "name": "stderr",
     "output_type": "stream",
     "text": [
      "  0%|          | 18/6999 [00:47<5:11:04,  2.67s/it]"
     ]
    },
    {
     "name": "stdout",
     "output_type": "stream",
     "text": [
      "<class 'IndexError'>\n"
     ]
    },
    {
     "name": "stderr",
     "output_type": "stream",
     "text": [
      "  0%|          | 20/6999 [00:52<5:10:18,  2.67s/it]"
     ]
    },
    {
     "name": "stdout",
     "output_type": "stream",
     "text": [
      "<class 'IndexError'>\n"
     ]
    },
    {
     "name": "stderr",
     "output_type": "stream",
     "text": [
      "  0%|          | 22/6999 [00:57<4:54:44,  2.53s/it]"
     ]
    },
    {
     "name": "stdout",
     "output_type": "stream",
     "text": [
      "<class 'IndexError'>\n"
     ]
    },
    {
     "name": "stderr",
     "output_type": "stream",
     "text": [
      "  0%|          | 24/6999 [01:02<4:53:06,  2.52s/it]"
     ]
    },
    {
     "name": "stdout",
     "output_type": "stream",
     "text": [
      "<class 'IndexError'>\n"
     ]
    },
    {
     "name": "stderr",
     "output_type": "stream",
     "text": [
      "  0%|          | 25/6999 [01:05<5:06:27,  2.64s/it]"
     ]
    },
    {
     "name": "stdout",
     "output_type": "stream",
     "text": [
      "<class 'IndexError'>\n"
     ]
    },
    {
     "name": "stderr",
     "output_type": "stream",
     "text": [
      "  0%|          | 26/6999 [01:09<5:56:44,  3.07s/it]"
     ]
    },
    {
     "name": "stdout",
     "output_type": "stream",
     "text": [
      "<class 'IndexError'>\n"
     ]
    },
    {
     "name": "stderr",
     "output_type": "stream",
     "text": [
      "  0%|          | 27/6999 [01:12<5:36:06,  2.89s/it]"
     ]
    },
    {
     "name": "stdout",
     "output_type": "stream",
     "text": [
      "<class 'IndexError'>\n"
     ]
    },
    {
     "name": "stderr",
     "output_type": "stream",
     "text": [
      "  0%|          | 28/6999 [01:14<5:29:38,  2.84s/it]"
     ]
    },
    {
     "name": "stdout",
     "output_type": "stream",
     "text": [
      "<class 'IndexError'>\n"
     ]
    },
    {
     "name": "stderr",
     "output_type": "stream",
     "text": [
      "  0%|          | 30/6999 [01:20<5:23:21,  2.78s/it]"
     ]
    },
    {
     "name": "stdout",
     "output_type": "stream",
     "text": [
      "<class 'IndexError'>\n"
     ]
    },
    {
     "name": "stderr",
     "output_type": "stream",
     "text": [
      "  0%|          | 32/6999 [01:25<5:07:03,  2.64s/it]"
     ]
    },
    {
     "name": "stdout",
     "output_type": "stream",
     "text": [
      "<class 'IndexError'>\n"
     ]
    },
    {
     "name": "stderr",
     "output_type": "stream",
     "text": [
      "  0%|          | 33/6999 [01:27<5:01:11,  2.59s/it]"
     ]
    },
    {
     "name": "stdout",
     "output_type": "stream",
     "text": [
      "<class 'IndexError'>\n"
     ]
    },
    {
     "name": "stderr",
     "output_type": "stream",
     "text": [
      "  1%|          | 36/6999 [01:35<5:05:52,  2.64s/it]"
     ]
    },
    {
     "name": "stdout",
     "output_type": "stream",
     "text": [
      "<class 'IndexError'>\n"
     ]
    },
    {
     "name": "stderr",
     "output_type": "stream",
     "text": [
      "  1%|          | 37/6999 [01:38<4:55:09,  2.54s/it]"
     ]
    },
    {
     "name": "stdout",
     "output_type": "stream",
     "text": [
      "<class 'IndexError'>\n"
     ]
    },
    {
     "name": "stderr",
     "output_type": "stream",
     "text": [
      "  1%|          | 39/6999 [01:43<4:58:11,  2.57s/it]"
     ]
    },
    {
     "name": "stdout",
     "output_type": "stream",
     "text": [
      "<class 'IndexError'>\n"
     ]
    },
    {
     "name": "stderr",
     "output_type": "stream",
     "text": [
      "  1%|          | 42/6999 [01:51<5:11:25,  2.69s/it]"
     ]
    },
    {
     "name": "stdout",
     "output_type": "stream",
     "text": [
      "<class 'IndexError'>\n"
     ]
    },
    {
     "name": "stderr",
     "output_type": "stream",
     "text": [
      "  1%|          | 43/6999 [01:54<5:07:46,  2.65s/it]"
     ]
    },
    {
     "name": "stdout",
     "output_type": "stream",
     "text": [
      "<class 'IndexError'>\n"
     ]
    },
    {
     "name": "stderr",
     "output_type": "stream",
     "text": [
      "  1%|          | 44/6999 [01:56<5:01:05,  2.60s/it]"
     ]
    },
    {
     "name": "stdout",
     "output_type": "stream",
     "text": [
      "<class 'IndexError'>\n"
     ]
    },
    {
     "name": "stderr",
     "output_type": "stream",
     "text": [
      "  1%|          | 45/6999 [01:59<5:01:48,  2.60s/it]"
     ]
    },
    {
     "name": "stdout",
     "output_type": "stream",
     "text": [
      "<class 'IndexError'>\n"
     ]
    },
    {
     "name": "stderr",
     "output_type": "stream",
     "text": [
      "  1%|          | 46/6999 [02:01<4:58:05,  2.57s/it]"
     ]
    },
    {
     "name": "stdout",
     "output_type": "stream",
     "text": [
      "<class 'IndexError'>\n"
     ]
    },
    {
     "name": "stderr",
     "output_type": "stream",
     "text": [
      "  1%|          | 47/6999 [02:04<4:57:15,  2.57s/it]"
     ]
    },
    {
     "name": "stdout",
     "output_type": "stream",
     "text": [
      "<class 'IndexError'>\n"
     ]
    },
    {
     "name": "stderr",
     "output_type": "stream",
     "text": [
      "  1%|          | 48/6999 [02:07<5:04:49,  2.63s/it]"
     ]
    },
    {
     "name": "stdout",
     "output_type": "stream",
     "text": [
      "<class 'IndexError'>\n"
     ]
    },
    {
     "name": "stderr",
     "output_type": "stream",
     "text": [
      "  1%|          | 50/6999 [02:13<5:37:22,  2.91s/it]"
     ]
    },
    {
     "name": "stdout",
     "output_type": "stream",
     "text": [
      "<class 'IndexError'>\n"
     ]
    },
    {
     "name": "stderr",
     "output_type": "stream",
     "text": [
      "  1%|          | 52/6999 [02:20<5:52:28,  3.04s/it]"
     ]
    },
    {
     "name": "stdout",
     "output_type": "stream",
     "text": [
      "<class 'IndexError'>\n"
     ]
    },
    {
     "name": "stderr",
     "output_type": "stream",
     "text": [
      "  1%|          | 54/6999 [02:25<5:26:04,  2.82s/it]"
     ]
    },
    {
     "name": "stdout",
     "output_type": "stream",
     "text": [
      "<class 'IndexError'>\n"
     ]
    },
    {
     "name": "stderr",
     "output_type": "stream",
     "text": [
      "  1%|          | 55/6999 [02:28<5:22:01,  2.78s/it]"
     ]
    },
    {
     "name": "stdout",
     "output_type": "stream",
     "text": [
      "<class 'IndexError'>\n"
     ]
    },
    {
     "name": "stderr",
     "output_type": "stream",
     "text": [
      "  1%|          | 60/6999 [02:42<5:15:45,  2.73s/it]"
     ]
    },
    {
     "name": "stdout",
     "output_type": "stream",
     "text": [
      "<class 'IndexError'>\n"
     ]
    },
    {
     "name": "stderr",
     "output_type": "stream",
     "text": [
      "  1%|          | 61/6999 [02:45<5:27:53,  2.84s/it]"
     ]
    },
    {
     "name": "stdout",
     "output_type": "stream",
     "text": [
      "<class 'IndexError'>\n"
     ]
    },
    {
     "name": "stderr",
     "output_type": "stream",
     "text": [
      "  1%|          | 62/6999 [02:47<5:16:45,  2.74s/it]"
     ]
    },
    {
     "name": "stdout",
     "output_type": "stream",
     "text": [
      "<class 'IndexError'>\n"
     ]
    },
    {
     "name": "stderr",
     "output_type": "stream",
     "text": [
      "  1%|          | 63/6999 [02:50<5:27:28,  2.83s/it]"
     ]
    },
    {
     "name": "stdout",
     "output_type": "stream",
     "text": [
      "<class 'IndexError'>\n"
     ]
    },
    {
     "name": "stderr",
     "output_type": "stream",
     "text": [
      "  1%|          | 64/6999 [02:55<6:34:23,  3.41s/it]"
     ]
    },
    {
     "name": "stdout",
     "output_type": "stream",
     "text": [
      "<class 'IndexError'>\n"
     ]
    },
    {
     "name": "stderr",
     "output_type": "stream",
     "text": [
      "  1%|          | 66/6999 [03:02<6:50:55,  3.56s/it]"
     ]
    },
    {
     "name": "stdout",
     "output_type": "stream",
     "text": [
      "<class 'IndexError'>\n"
     ]
    },
    {
     "name": "stderr",
     "output_type": "stream",
     "text": [
      "  1%|          | 67/6999 [03:06<6:35:35,  3.42s/it]"
     ]
    },
    {
     "name": "stdout",
     "output_type": "stream",
     "text": [
      "<class 'IndexError'>\n"
     ]
    },
    {
     "name": "stderr",
     "output_type": "stream",
     "text": [
      "  1%|          | 69/6999 [03:11<6:05:34,  3.17s/it]"
     ]
    },
    {
     "name": "stdout",
     "output_type": "stream",
     "text": [
      "<class 'IndexError'>\n"
     ]
    },
    {
     "name": "stderr",
     "output_type": "stream",
     "text": [
      "  1%|          | 70/6999 [03:14<5:51:41,  3.05s/it]"
     ]
    },
    {
     "name": "stdout",
     "output_type": "stream",
     "text": [
      "<class 'IndexError'>\n"
     ]
    },
    {
     "name": "stderr",
     "output_type": "stream",
     "text": [
      "  1%|          | 71/6999 [03:18<6:07:13,  3.18s/it]"
     ]
    },
    {
     "name": "stdout",
     "output_type": "stream",
     "text": [
      "<class 'IndexError'>\n"
     ]
    },
    {
     "name": "stderr",
     "output_type": "stream",
     "text": [
      "  1%|          | 74/6999 [03:26<5:31:02,  2.87s/it]"
     ]
    },
    {
     "name": "stdout",
     "output_type": "stream",
     "text": [
      "<class 'IndexError'>\n"
     ]
    },
    {
     "name": "stderr",
     "output_type": "stream",
     "text": [
      "  1%|          | 75/6999 [03:29<5:28:36,  2.85s/it]"
     ]
    },
    {
     "name": "stdout",
     "output_type": "stream",
     "text": [
      "<class 'IndexError'>\n"
     ]
    },
    {
     "name": "stderr",
     "output_type": "stream",
     "text": [
      "  1%|          | 76/6999 [03:32<5:33:47,  2.89s/it]"
     ]
    },
    {
     "name": "stdout",
     "output_type": "stream",
     "text": [
      "<class 'IndexError'>\n"
     ]
    },
    {
     "name": "stderr",
     "output_type": "stream",
     "text": [
      "  1%|          | 77/6999 [03:35<5:35:45,  2.91s/it]"
     ]
    },
    {
     "name": "stdout",
     "output_type": "stream",
     "text": [
      "<class 'IndexError'>\n"
     ]
    },
    {
     "name": "stderr",
     "output_type": "stream",
     "text": [
      "  1%|          | 78/6999 [03:38<5:46:47,  3.01s/it]"
     ]
    },
    {
     "name": "stdout",
     "output_type": "stream",
     "text": [
      "<class 'IndexError'>\n"
     ]
    },
    {
     "name": "stderr",
     "output_type": "stream",
     "text": [
      "  1%|          | 79/6999 [03:40<5:36:39,  2.92s/it]"
     ]
    },
    {
     "name": "stdout",
     "output_type": "stream",
     "text": [
      "<class 'IndexError'>\n"
     ]
    },
    {
     "name": "stderr",
     "output_type": "stream",
     "text": [
      "  1%|          | 80/6999 [03:44<5:46:20,  3.00s/it]"
     ]
    },
    {
     "name": "stdout",
     "output_type": "stream",
     "text": [
      "<class 'IndexError'>\n"
     ]
    },
    {
     "name": "stderr",
     "output_type": "stream",
     "text": [
      "  1%|          | 81/6999 [03:47<5:51:19,  3.05s/it]"
     ]
    },
    {
     "name": "stdout",
     "output_type": "stream",
     "text": [
      "<class 'IndexError'>\n"
     ]
    },
    {
     "name": "stderr",
     "output_type": "stream",
     "text": [
      "  1%|          | 82/6999 [03:49<5:36:20,  2.92s/it]"
     ]
    },
    {
     "name": "stdout",
     "output_type": "stream",
     "text": [
      "<class 'IndexError'>\n"
     ]
    },
    {
     "name": "stderr",
     "output_type": "stream",
     "text": [
      "  1%|          | 83/6999 [03:52<5:37:28,  2.93s/it]"
     ]
    },
    {
     "name": "stdout",
     "output_type": "stream",
     "text": [
      "<class 'IndexError'>\n"
     ]
    },
    {
     "name": "stderr",
     "output_type": "stream",
     "text": [
      "  1%|          | 84/6999 [03:55<5:28:52,  2.85s/it]"
     ]
    },
    {
     "name": "stdout",
     "output_type": "stream",
     "text": [
      "<class 'IndexError'>\n"
     ]
    },
    {
     "name": "stderr",
     "output_type": "stream",
     "text": [
      "  1%|          | 87/6999 [04:05<6:00:21,  3.13s/it]"
     ]
    },
    {
     "name": "stdout",
     "output_type": "stream",
     "text": [
      "<class 'IndexError'>\n"
     ]
    },
    {
     "name": "stderr",
     "output_type": "stream",
     "text": [
      "  1%|▏         | 89/6999 [04:11<5:38:48,  2.94s/it]"
     ]
    },
    {
     "name": "stdout",
     "output_type": "stream",
     "text": [
      "<class 'IndexError'>\n"
     ]
    },
    {
     "name": "stderr",
     "output_type": "stream",
     "text": [
      "  1%|▏         | 90/6999 [04:14<5:32:40,  2.89s/it]"
     ]
    },
    {
     "name": "stdout",
     "output_type": "stream",
     "text": [
      "<class 'IndexError'>\n"
     ]
    },
    {
     "name": "stderr",
     "output_type": "stream",
     "text": [
      "  1%|▏         | 91/6999 [04:17<5:41:38,  2.97s/it]"
     ]
    },
    {
     "name": "stdout",
     "output_type": "stream",
     "text": [
      "<class 'IndexError'>\n"
     ]
    },
    {
     "name": "stderr",
     "output_type": "stream",
     "text": [
      "  1%|▏         | 92/6999 [04:19<5:31:45,  2.88s/it]"
     ]
    },
    {
     "name": "stdout",
     "output_type": "stream",
     "text": [
      "<class 'IndexError'>\n"
     ]
    },
    {
     "name": "stderr",
     "output_type": "stream",
     "text": [
      "  1%|▏         | 96/6999 [04:33<6:33:06,  3.42s/it]"
     ]
    },
    {
     "name": "stdout",
     "output_type": "stream",
     "text": [
      "<class 'IndexError'>\n"
     ]
    },
    {
     "name": "stderr",
     "output_type": "stream",
     "text": [
      "  1%|▏         | 97/6999 [04:36<6:05:28,  3.18s/it]"
     ]
    },
    {
     "name": "stdout",
     "output_type": "stream",
     "text": [
      "<class 'IndexError'>\n"
     ]
    },
    {
     "name": "stderr",
     "output_type": "stream",
     "text": [
      "  1%|▏         | 98/6999 [04:39<6:17:28,  3.28s/it]"
     ]
    },
    {
     "name": "stdout",
     "output_type": "stream",
     "text": [
      "<class 'IndexError'>\n"
     ]
    },
    {
     "name": "stderr",
     "output_type": "stream",
     "text": [
      "  1%|▏         | 99/6999 [04:43<6:20:24,  3.31s/it]"
     ]
    },
    {
     "name": "stdout",
     "output_type": "stream",
     "text": [
      "<class 'IndexError'>\n"
     ]
    },
    {
     "name": "stderr",
     "output_type": "stream",
     "text": [
      "  1%|▏         | 101/6999 [04:48<5:40:32,  2.96s/it]"
     ]
    },
    {
     "name": "stdout",
     "output_type": "stream",
     "text": [
      "<class 'IndexError'>\n"
     ]
    },
    {
     "name": "stderr",
     "output_type": "stream",
     "text": [
      "  1%|▏         | 103/6999 [04:53<5:22:43,  2.81s/it]"
     ]
    },
    {
     "name": "stdout",
     "output_type": "stream",
     "text": [
      "<class 'IndexError'>\n"
     ]
    },
    {
     "name": "stderr",
     "output_type": "stream",
     "text": [
      "  1%|▏         | 104/6999 [04:56<5:09:44,  2.70s/it]"
     ]
    },
    {
     "name": "stdout",
     "output_type": "stream",
     "text": [
      "<class 'IndexError'>\n"
     ]
    },
    {
     "name": "stderr",
     "output_type": "stream",
     "text": [
      "  2%|▏         | 105/6999 [05:00<6:08:20,  3.21s/it]"
     ]
    },
    {
     "name": "stdout",
     "output_type": "stream",
     "text": [
      "<class 'IndexError'>\n"
     ]
    },
    {
     "name": "stderr",
     "output_type": "stream",
     "text": [
      "  2%|▏         | 106/6999 [05:04<6:45:59,  3.53s/it]"
     ]
    },
    {
     "name": "stdout",
     "output_type": "stream",
     "text": [
      "<class 'IndexError'>\n"
     ]
    },
    {
     "name": "stderr",
     "output_type": "stream",
     "text": [
      "  2%|▏         | 107/6999 [05:07<6:08:34,  3.21s/it]"
     ]
    },
    {
     "name": "stdout",
     "output_type": "stream",
     "text": [
      "<class 'IndexError'>\n"
     ]
    },
    {
     "name": "stderr",
     "output_type": "stream",
     "text": [
      "  2%|▏         | 108/6999 [05:09<5:46:56,  3.02s/it]"
     ]
    },
    {
     "name": "stdout",
     "output_type": "stream",
     "text": [
      "<class 'IndexError'>\n"
     ]
    },
    {
     "name": "stderr",
     "output_type": "stream",
     "text": [
      "  2%|▏         | 109/6999 [05:12<5:34:14,  2.91s/it]"
     ]
    },
    {
     "name": "stdout",
     "output_type": "stream",
     "text": [
      "<class 'IndexError'>\n"
     ]
    },
    {
     "name": "stderr",
     "output_type": "stream",
     "text": [
      "  2%|▏         | 110/6999 [05:14<5:13:33,  2.73s/it]"
     ]
    },
    {
     "name": "stdout",
     "output_type": "stream",
     "text": [
      "<class 'IndexError'>\n"
     ]
    },
    {
     "name": "stderr",
     "output_type": "stream",
     "text": [
      "  2%|▏         | 112/6999 [05:20<5:14:27,  2.74s/it]"
     ]
    },
    {
     "name": "stdout",
     "output_type": "stream",
     "text": [
      "<class 'IndexError'>\n"
     ]
    },
    {
     "name": "stderr",
     "output_type": "stream",
     "text": [
      "  2%|▏         | 113/6999 [05:22<5:02:09,  2.63s/it]"
     ]
    },
    {
     "name": "stdout",
     "output_type": "stream",
     "text": [
      "<class 'IndexError'>\n"
     ]
    },
    {
     "name": "stderr",
     "output_type": "stream",
     "text": [
      "  2%|▏         | 114/6999 [05:25<4:51:47,  2.54s/it]"
     ]
    },
    {
     "name": "stdout",
     "output_type": "stream",
     "text": [
      "<class 'IndexError'>\n"
     ]
    },
    {
     "name": "stderr",
     "output_type": "stream",
     "text": [
      "  2%|▏         | 115/6999 [05:28<5:07:17,  2.68s/it]"
     ]
    },
    {
     "name": "stdout",
     "output_type": "stream",
     "text": [
      "<class 'IndexError'>\n"
     ]
    },
    {
     "name": "stderr",
     "output_type": "stream",
     "text": [
      "  2%|▏         | 116/6999 [05:30<4:58:52,  2.61s/it]"
     ]
    },
    {
     "name": "stdout",
     "output_type": "stream",
     "text": [
      "<class 'IndexError'>\n"
     ]
    },
    {
     "name": "stderr",
     "output_type": "stream",
     "text": [
      "  2%|▏         | 117/6999 [05:33<5:07:52,  2.68s/it]"
     ]
    },
    {
     "name": "stdout",
     "output_type": "stream",
     "text": [
      "<class 'IndexError'>\n"
     ]
    },
    {
     "name": "stderr",
     "output_type": "stream",
     "text": [
      "  2%|▏         | 119/6999 [05:38<4:55:11,  2.57s/it]"
     ]
    },
    {
     "name": "stdout",
     "output_type": "stream",
     "text": [
      "<class 'IndexError'>\n"
     ]
    },
    {
     "name": "stderr",
     "output_type": "stream",
     "text": [
      "  2%|▏         | 120/6999 [05:41<5:10:21,  2.71s/it]"
     ]
    },
    {
     "name": "stdout",
     "output_type": "stream",
     "text": [
      "<class 'IndexError'>\n"
     ]
    },
    {
     "name": "stderr",
     "output_type": "stream",
     "text": [
      "  2%|▏         | 121/6999 [05:43<4:58:32,  2.60s/it]"
     ]
    },
    {
     "name": "stdout",
     "output_type": "stream",
     "text": [
      "<class 'IndexError'>\n"
     ]
    },
    {
     "name": "stderr",
     "output_type": "stream",
     "text": [
      "  2%|▏         | 122/6999 [05:46<4:49:19,  2.52s/it]"
     ]
    },
    {
     "name": "stdout",
     "output_type": "stream",
     "text": [
      "<class 'IndexError'>\n"
     ]
    },
    {
     "name": "stderr",
     "output_type": "stream",
     "text": [
      "  2%|▏         | 123/6999 [05:48<4:47:09,  2.51s/it]"
     ]
    },
    {
     "name": "stdout",
     "output_type": "stream",
     "text": [
      "<class 'IndexError'>\n"
     ]
    },
    {
     "name": "stderr",
     "output_type": "stream",
     "text": [
      "  2%|▏         | 124/6999 [05:51<4:50:57,  2.54s/it]"
     ]
    },
    {
     "name": "stdout",
     "output_type": "stream",
     "text": [
      "<class 'IndexError'>\n"
     ]
    },
    {
     "name": "stderr",
     "output_type": "stream",
     "text": [
      "  2%|▏         | 126/6999 [05:57<5:19:25,  2.79s/it]"
     ]
    },
    {
     "name": "stdout",
     "output_type": "stream",
     "text": [
      "<class 'IndexError'>\n"
     ]
    },
    {
     "name": "stderr",
     "output_type": "stream",
     "text": [
      "  2%|▏         | 127/6999 [06:01<5:48:25,  3.04s/it]"
     ]
    },
    {
     "name": "stdout",
     "output_type": "stream",
     "text": [
      "<class 'IndexError'>\n"
     ]
    },
    {
     "name": "stderr",
     "output_type": "stream",
     "text": [
      "  2%|▏         | 128/6999 [06:05<6:39:28,  3.49s/it]"
     ]
    },
    {
     "name": "stdout",
     "output_type": "stream",
     "text": [
      "<class 'IndexError'>\n"
     ]
    },
    {
     "name": "stderr",
     "output_type": "stream",
     "text": [
      "  2%|▏         | 129/6999 [06:08<6:05:26,  3.19s/it]"
     ]
    },
    {
     "name": "stdout",
     "output_type": "stream",
     "text": [
      "<class 'IndexError'>\n"
     ]
    },
    {
     "name": "stderr",
     "output_type": "stream",
     "text": [
      "  2%|▏         | 132/6999 [06:16<5:18:59,  2.79s/it]"
     ]
    },
    {
     "name": "stdout",
     "output_type": "stream",
     "text": [
      "<class 'IndexError'>\n"
     ]
    },
    {
     "name": "stderr",
     "output_type": "stream",
     "text": [
      "  2%|▏         | 133/6999 [06:18<5:22:12,  2.82s/it]"
     ]
    },
    {
     "name": "stdout",
     "output_type": "stream",
     "text": [
      "<class 'IndexError'>\n"
     ]
    },
    {
     "name": "stderr",
     "output_type": "stream",
     "text": [
      "  2%|▏         | 136/6999 [06:28<6:02:26,  3.17s/it]"
     ]
    },
    {
     "name": "stdout",
     "output_type": "stream",
     "text": [
      "<class 'IndexError'>\n"
     ]
    },
    {
     "name": "stderr",
     "output_type": "stream",
     "text": [
      "  2%|▏         | 137/6999 [06:31<5:51:30,  3.07s/it]"
     ]
    },
    {
     "name": "stdout",
     "output_type": "stream",
     "text": [
      "<class 'IndexError'>\n"
     ]
    },
    {
     "name": "stderr",
     "output_type": "stream",
     "text": [
      "  2%|▏         | 138/6999 [06:34<5:36:49,  2.95s/it]"
     ]
    },
    {
     "name": "stdout",
     "output_type": "stream",
     "text": [
      "<class 'IndexError'>\n"
     ]
    },
    {
     "name": "stderr",
     "output_type": "stream",
     "text": [
      "  2%|▏         | 141/6999 [06:41<5:11:29,  2.73s/it]"
     ]
    },
    {
     "name": "stdout",
     "output_type": "stream",
     "text": [
      "<class 'IndexError'>\n"
     ]
    },
    {
     "name": "stderr",
     "output_type": "stream",
     "text": [
      "  2%|▏         | 142/6999 [06:45<5:26:34,  2.86s/it]"
     ]
    },
    {
     "name": "stdout",
     "output_type": "stream",
     "text": [
      "<class 'IndexError'>\n"
     ]
    },
    {
     "name": "stderr",
     "output_type": "stream",
     "text": [
      "  2%|▏         | 145/6999 [06:54<5:53:59,  3.10s/it]"
     ]
    },
    {
     "name": "stdout",
     "output_type": "stream",
     "text": [
      "<class 'IndexError'>\n"
     ]
    },
    {
     "name": "stderr",
     "output_type": "stream",
     "text": [
      "  2%|▏         | 146/6999 [06:57<5:52:43,  3.09s/it]"
     ]
    },
    {
     "name": "stdout",
     "output_type": "stream",
     "text": [
      "<class 'IndexError'>\n"
     ]
    },
    {
     "name": "stderr",
     "output_type": "stream",
     "text": [
      "  2%|▏         | 147/6999 [07:00<5:37:07,  2.95s/it]"
     ]
    },
    {
     "name": "stdout",
     "output_type": "stream",
     "text": [
      "<class 'IndexError'>\n"
     ]
    },
    {
     "name": "stderr",
     "output_type": "stream",
     "text": [
      "  2%|▏         | 148/6999 [07:03<5:46:04,  3.03s/it]"
     ]
    },
    {
     "name": "stdout",
     "output_type": "stream",
     "text": [
      "<class 'IndexError'>\n"
     ]
    },
    {
     "name": "stderr",
     "output_type": "stream",
     "text": [
      "  2%|▏         | 150/6999 [07:09<5:51:33,  3.08s/it]"
     ]
    },
    {
     "name": "stdout",
     "output_type": "stream",
     "text": [
      "<class 'IndexError'>\n"
     ]
    },
    {
     "name": "stderr",
     "output_type": "stream",
     "text": [
      "  2%|▏         | 152/6999 [07:14<5:22:35,  2.83s/it]"
     ]
    },
    {
     "name": "stdout",
     "output_type": "stream",
     "text": [
      "<class 'IndexError'>\n"
     ]
    },
    {
     "name": "stderr",
     "output_type": "stream",
     "text": [
      "  2%|▏         | 153/6999 [07:17<5:15:53,  2.77s/it]"
     ]
    },
    {
     "name": "stdout",
     "output_type": "stream",
     "text": [
      "<class 'IndexError'>\n"
     ]
    },
    {
     "name": "stderr",
     "output_type": "stream",
     "text": [
      "  2%|▏         | 154/6999 [07:20<5:27:09,  2.87s/it]"
     ]
    },
    {
     "name": "stdout",
     "output_type": "stream",
     "text": [
      "<class 'IndexError'>\n"
     ]
    },
    {
     "name": "stderr",
     "output_type": "stream",
     "text": [
      "  2%|▏         | 155/6999 [07:23<5:19:02,  2.80s/it]"
     ]
    },
    {
     "name": "stdout",
     "output_type": "stream",
     "text": [
      "<class 'IndexError'>\n"
     ]
    },
    {
     "name": "stderr",
     "output_type": "stream",
     "text": [
      "  2%|▏         | 157/6999 [07:28<5:13:05,  2.75s/it]"
     ]
    },
    {
     "name": "stdout",
     "output_type": "stream",
     "text": [
      "<class 'IndexError'>\n"
     ]
    },
    {
     "name": "stderr",
     "output_type": "stream",
     "text": [
      "  2%|▏         | 158/6999 [07:31<5:07:32,  2.70s/it]"
     ]
    },
    {
     "name": "stdout",
     "output_type": "stream",
     "text": [
      "<class 'IndexError'>\n"
     ]
    },
    {
     "name": "stderr",
     "output_type": "stream",
     "text": [
      "  2%|▏         | 159/6999 [07:34<5:36:38,  2.95s/it]"
     ]
    },
    {
     "name": "stdout",
     "output_type": "stream",
     "text": [
      "<class 'IndexError'>\n"
     ]
    },
    {
     "name": "stderr",
     "output_type": "stream",
     "text": [
      "  2%|▏         | 162/6999 [07:42<5:23:03,  2.84s/it]"
     ]
    },
    {
     "name": "stdout",
     "output_type": "stream",
     "text": [
      "<class 'IndexError'>\n"
     ]
    },
    {
     "name": "stderr",
     "output_type": "stream",
     "text": [
      "  2%|▏         | 164/6999 [07:48<5:17:06,  2.78s/it]"
     ]
    },
    {
     "name": "stdout",
     "output_type": "stream",
     "text": [
      "<class 'IndexError'>\n"
     ]
    },
    {
     "name": "stderr",
     "output_type": "stream",
     "text": [
      "  2%|▏         | 165/6999 [07:52<6:00:17,  3.16s/it]"
     ]
    },
    {
     "name": "stdout",
     "output_type": "stream",
     "text": [
      "<class 'IndexError'>\n"
     ]
    },
    {
     "name": "stderr",
     "output_type": "stream",
     "text": [
      "  2%|▏         | 167/6999 [08:01<7:12:08,  3.80s/it]"
     ]
    },
    {
     "name": "stdout",
     "output_type": "stream",
     "text": [
      "<class 'IndexError'>\n"
     ]
    },
    {
     "name": "stderr",
     "output_type": "stream",
     "text": [
      "  2%|▏         | 168/6999 [08:04<6:54:33,  3.64s/it]"
     ]
    },
    {
     "name": "stdout",
     "output_type": "stream",
     "text": [
      "<class 'IndexError'>\n"
     ]
    },
    {
     "name": "stderr",
     "output_type": "stream",
     "text": [
      "  2%|▏         | 169/6999 [08:07<6:26:52,  3.40s/it]"
     ]
    },
    {
     "name": "stdout",
     "output_type": "stream",
     "text": [
      "<class 'IndexError'>\n"
     ]
    },
    {
     "name": "stderr",
     "output_type": "stream",
     "text": [
      "  2%|▏         | 170/6999 [08:09<5:56:10,  3.13s/it]"
     ]
    },
    {
     "name": "stdout",
     "output_type": "stream",
     "text": [
      "<class 'IndexError'>\n"
     ]
    },
    {
     "name": "stderr",
     "output_type": "stream",
     "text": [
      "  2%|▏         | 171/6999 [08:12<5:44:47,  3.03s/it]"
     ]
    },
    {
     "name": "stdout",
     "output_type": "stream",
     "text": [
      "<class 'IndexError'>\n"
     ]
    },
    {
     "name": "stderr",
     "output_type": "stream",
     "text": [
      "  2%|▏         | 173/6999 [08:18<5:47:53,  3.06s/it]"
     ]
    },
    {
     "name": "stdout",
     "output_type": "stream",
     "text": [
      "<class 'IndexError'>\n"
     ]
    },
    {
     "name": "stderr",
     "output_type": "stream",
     "text": [
      "  2%|▏         | 174/6999 [08:22<6:08:04,  3.24s/it]"
     ]
    },
    {
     "name": "stdout",
     "output_type": "stream",
     "text": [
      "<class 'IndexError'>\n"
     ]
    },
    {
     "name": "stderr",
     "output_type": "stream",
     "text": [
      "  3%|▎         | 175/6999 [08:27<7:00:41,  3.70s/it]"
     ]
    },
    {
     "name": "stdout",
     "output_type": "stream",
     "text": [
      "<class 'IndexError'>\n"
     ]
    },
    {
     "name": "stderr",
     "output_type": "stream",
     "text": [
      "  3%|▎         | 176/6999 [08:29<6:29:31,  3.43s/it]"
     ]
    },
    {
     "name": "stdout",
     "output_type": "stream",
     "text": [
      "<class 'IndexError'>\n"
     ]
    },
    {
     "name": "stderr",
     "output_type": "stream",
     "text": [
      "  3%|▎         | 177/6999 [08:32<6:11:58,  3.27s/it]"
     ]
    },
    {
     "name": "stdout",
     "output_type": "stream",
     "text": [
      "<class 'IndexError'>\n"
     ]
    },
    {
     "name": "stderr",
     "output_type": "stream",
     "text": [
      "  3%|▎         | 178/6999 [08:35<5:57:26,  3.14s/it]"
     ]
    },
    {
     "name": "stdout",
     "output_type": "stream",
     "text": [
      "<class 'IndexError'>\n"
     ]
    },
    {
     "name": "stderr",
     "output_type": "stream",
     "text": [
      "  3%|▎         | 180/6999 [08:40<5:27:05,  2.88s/it]"
     ]
    },
    {
     "name": "stdout",
     "output_type": "stream",
     "text": [
      "<class 'IndexError'>\n"
     ]
    },
    {
     "name": "stderr",
     "output_type": "stream",
     "text": [
      "  3%|▎         | 181/6999 [08:44<5:44:18,  3.03s/it]"
     ]
    },
    {
     "name": "stdout",
     "output_type": "stream",
     "text": [
      "<class 'IndexError'>\n"
     ]
    },
    {
     "name": "stderr",
     "output_type": "stream",
     "text": [
      "  3%|▎         | 186/6999 [08:59<5:57:15,  3.15s/it]"
     ]
    },
    {
     "name": "stdout",
     "output_type": "stream",
     "text": [
      "<class 'IndexError'>\n"
     ]
    },
    {
     "name": "stderr",
     "output_type": "stream",
     "text": [
      "  3%|▎         | 187/6999 [09:02<5:42:34,  3.02s/it]"
     ]
    },
    {
     "name": "stdout",
     "output_type": "stream",
     "text": [
      "<class 'IndexError'>\n"
     ]
    },
    {
     "name": "stderr",
     "output_type": "stream",
     "text": [
      "  3%|▎         | 191/6999 [09:14<5:40:45,  3.00s/it]"
     ]
    },
    {
     "name": "stdout",
     "output_type": "stream",
     "text": [
      "<class 'IndexError'>\n"
     ]
    },
    {
     "name": "stderr",
     "output_type": "stream",
     "text": [
      "  3%|▎         | 194/6999 [09:23<5:28:22,  2.90s/it]"
     ]
    },
    {
     "name": "stdout",
     "output_type": "stream",
     "text": [
      "<class 'IndexError'>\n"
     ]
    },
    {
     "name": "stderr",
     "output_type": "stream",
     "text": [
      "  3%|▎         | 195/6999 [09:26<5:46:02,  3.05s/it]"
     ]
    },
    {
     "name": "stdout",
     "output_type": "stream",
     "text": [
      "<class 'IndexError'>\n"
     ]
    },
    {
     "name": "stderr",
     "output_type": "stream",
     "text": [
      "  3%|▎         | 196/6999 [09:29<5:31:40,  2.93s/it]"
     ]
    },
    {
     "name": "stdout",
     "output_type": "stream",
     "text": [
      "<class 'IndexError'>\n"
     ]
    },
    {
     "name": "stderr",
     "output_type": "stream",
     "text": [
      "  3%|▎         | 197/6999 [09:31<5:19:21,  2.82s/it]"
     ]
    },
    {
     "name": "stdout",
     "output_type": "stream",
     "text": [
      "<class 'IndexError'>\n"
     ]
    },
    {
     "name": "stderr",
     "output_type": "stream",
     "text": [
      "  3%|▎         | 199/6999 [09:37<5:16:43,  2.79s/it]"
     ]
    },
    {
     "name": "stdout",
     "output_type": "stream",
     "text": [
      "<class 'IndexError'>\n"
     ]
    },
    {
     "name": "stderr",
     "output_type": "stream",
     "text": [
      "  3%|▎         | 201/6999 [09:42<5:17:31,  2.80s/it]"
     ]
    },
    {
     "name": "stdout",
     "output_type": "stream",
     "text": [
      "<class 'IndexError'>\n"
     ]
    },
    {
     "name": "stderr",
     "output_type": "stream",
     "text": [
      "  3%|▎         | 202/6999 [09:45<5:21:58,  2.84s/it]"
     ]
    },
    {
     "name": "stdout",
     "output_type": "stream",
     "text": [
      "<class 'IndexError'>\n"
     ]
    },
    {
     "name": "stderr",
     "output_type": "stream",
     "text": [
      "  3%|▎         | 203/6999 [09:48<5:14:20,  2.78s/it]"
     ]
    },
    {
     "name": "stdout",
     "output_type": "stream",
     "text": [
      "<class 'IndexError'>\n"
     ]
    },
    {
     "name": "stderr",
     "output_type": "stream",
     "text": [
      "  3%|▎         | 204/6999 [09:51<5:17:59,  2.81s/it]"
     ]
    },
    {
     "name": "stdout",
     "output_type": "stream",
     "text": [
      "<class 'IndexError'>\n"
     ]
    },
    {
     "name": "stderr",
     "output_type": "stream",
     "text": [
      "  3%|▎         | 205/6999 [09:54<5:15:00,  2.78s/it]"
     ]
    },
    {
     "name": "stdout",
     "output_type": "stream",
     "text": [
      "<class 'IndexError'>\n"
     ]
    },
    {
     "name": "stderr",
     "output_type": "stream",
     "text": [
      "  3%|▎         | 206/6999 [09:56<5:00:51,  2.66s/it]"
     ]
    },
    {
     "name": "stdout",
     "output_type": "stream",
     "text": [
      "<class 'IndexError'>\n"
     ]
    },
    {
     "name": "stderr",
     "output_type": "stream",
     "text": [
      "  3%|▎         | 207/6999 [09:59<5:01:14,  2.66s/it]"
     ]
    },
    {
     "name": "stdout",
     "output_type": "stream",
     "text": [
      "<class 'IndexError'>\n"
     ]
    },
    {
     "name": "stderr",
     "output_type": "stream",
     "text": [
      "  3%|▎         | 208/6999 [10:00<4:32:34,  2.41s/it]"
     ]
    },
    {
     "name": "stdout",
     "output_type": "stream",
     "text": [
      "<class 'IndexError'>\n"
     ]
    },
    {
     "name": "stderr",
     "output_type": "stream",
     "text": [
      "  3%|▎         | 210/6999 [10:06<5:02:46,  2.68s/it]"
     ]
    },
    {
     "name": "stdout",
     "output_type": "stream",
     "text": [
      "<class 'IndexError'>\n"
     ]
    },
    {
     "name": "stderr",
     "output_type": "stream",
     "text": [
      "  3%|▎         | 211/6999 [10:09<5:04:17,  2.69s/it]"
     ]
    },
    {
     "name": "stdout",
     "output_type": "stream",
     "text": [
      "<class 'IndexError'>\n"
     ]
    },
    {
     "name": "stderr",
     "output_type": "stream",
     "text": [
      "  3%|▎         | 212/6999 [10:12<5:04:46,  2.69s/it]"
     ]
    },
    {
     "name": "stdout",
     "output_type": "stream",
     "text": [
      "<class 'IndexError'>\n"
     ]
    },
    {
     "name": "stderr",
     "output_type": "stream",
     "text": [
      "  3%|▎         | 213/6999 [10:16<5:43:28,  3.04s/it]"
     ]
    },
    {
     "name": "stdout",
     "output_type": "stream",
     "text": [
      "<class 'IndexError'>\n"
     ]
    },
    {
     "name": "stderr",
     "output_type": "stream",
     "text": [
      "  3%|▎         | 215/6999 [10:22<5:54:43,  3.14s/it]"
     ]
    },
    {
     "name": "stdout",
     "output_type": "stream",
     "text": [
      "<class 'IndexError'>\n"
     ]
    },
    {
     "name": "stderr",
     "output_type": "stream",
     "text": [
      "  3%|▎         | 216/6999 [10:25<5:35:40,  2.97s/it]"
     ]
    },
    {
     "name": "stdout",
     "output_type": "stream",
     "text": [
      "<class 'IndexError'>\n"
     ]
    },
    {
     "name": "stderr",
     "output_type": "stream",
     "text": [
      "  3%|▎         | 218/6999 [10:30<5:25:21,  2.88s/it]"
     ]
    },
    {
     "name": "stdout",
     "output_type": "stream",
     "text": [
      "<class 'IndexError'>\n"
     ]
    },
    {
     "name": "stderr",
     "output_type": "stream",
     "text": [
      "  3%|▎         | 219/6999 [10:33<5:20:23,  2.84s/it]"
     ]
    },
    {
     "name": "stdout",
     "output_type": "stream",
     "text": [
      "<class 'IndexError'>\n"
     ]
    },
    {
     "name": "stderr",
     "output_type": "stream",
     "text": [
      "  3%|▎         | 221/6999 [10:39<5:13:51,  2.78s/it]"
     ]
    },
    {
     "name": "stdout",
     "output_type": "stream",
     "text": [
      "<class 'IndexError'>\n"
     ]
    },
    {
     "name": "stderr",
     "output_type": "stream",
     "text": [
      "  3%|▎         | 222/6999 [10:41<5:13:28,  2.78s/it]"
     ]
    },
    {
     "name": "stdout",
     "output_type": "stream",
     "text": [
      "<class 'IndexError'>\n"
     ]
    },
    {
     "name": "stderr",
     "output_type": "stream",
     "text": [
      "  3%|▎         | 223/6999 [10:45<6:02:14,  3.21s/it]"
     ]
    },
    {
     "name": "stdout",
     "output_type": "stream",
     "text": [
      "<class 'IndexError'>\n"
     ]
    },
    {
     "name": "stderr",
     "output_type": "stream",
     "text": [
      "  3%|▎         | 225/6999 [10:51<5:43:37,  3.04s/it]"
     ]
    },
    {
     "name": "stdout",
     "output_type": "stream",
     "text": [
      "<class 'IndexError'>\n"
     ]
    },
    {
     "name": "stderr",
     "output_type": "stream",
     "text": [
      "  3%|▎         | 228/6999 [10:59<5:05:56,  2.71s/it]"
     ]
    },
    {
     "name": "stdout",
     "output_type": "stream",
     "text": [
      "<class 'IndexError'>\n"
     ]
    },
    {
     "name": "stderr",
     "output_type": "stream",
     "text": [
      "  3%|▎         | 229/6999 [11:01<4:53:38,  2.60s/it]"
     ]
    },
    {
     "name": "stdout",
     "output_type": "stream",
     "text": [
      "<class 'IndexError'>\n"
     ]
    },
    {
     "name": "stderr",
     "output_type": "stream",
     "text": [
      "  3%|▎         | 230/6999 [11:04<4:43:04,  2.51s/it]"
     ]
    },
    {
     "name": "stdout",
     "output_type": "stream",
     "text": [
      "<class 'IndexError'>\n"
     ]
    },
    {
     "name": "stderr",
     "output_type": "stream",
     "text": [
      "  3%|▎         | 231/6999 [11:06<4:43:00,  2.51s/it]"
     ]
    },
    {
     "name": "stdout",
     "output_type": "stream",
     "text": [
      "<class 'IndexError'>\n"
     ]
    },
    {
     "name": "stderr",
     "output_type": "stream",
     "text": [
      "  3%|▎         | 234/6999 [11:14<5:01:59,  2.68s/it]"
     ]
    },
    {
     "name": "stdout",
     "output_type": "stream",
     "text": [
      "<class 'IndexError'>\n"
     ]
    },
    {
     "name": "stderr",
     "output_type": "stream",
     "text": [
      "  3%|▎         | 235/6999 [11:18<5:19:30,  2.83s/it]"
     ]
    },
    {
     "name": "stdout",
     "output_type": "stream",
     "text": [
      "<class 'IndexError'>\n"
     ]
    },
    {
     "name": "stderr",
     "output_type": "stream",
     "text": [
      "  3%|▎         | 236/6999 [11:20<4:53:42,  2.61s/it]"
     ]
    },
    {
     "name": "stdout",
     "output_type": "stream",
     "text": [
      "<class 'IndexError'>\n"
     ]
    },
    {
     "name": "stderr",
     "output_type": "stream",
     "text": [
      "  3%|▎         | 237/6999 [11:22<4:47:42,  2.55s/it]"
     ]
    },
    {
     "name": "stdout",
     "output_type": "stream",
     "text": [
      "<class 'IndexError'>\n"
     ]
    },
    {
     "name": "stderr",
     "output_type": "stream",
     "text": [
      "  3%|▎         | 238/6999 [11:26<5:46:13,  3.07s/it]"
     ]
    },
    {
     "name": "stdout",
     "output_type": "stream",
     "text": [
      "<class 'IndexError'>\n"
     ]
    },
    {
     "name": "stderr",
     "output_type": "stream",
     "text": [
      "  3%|▎         | 239/6999 [11:29<5:34:13,  2.97s/it]"
     ]
    },
    {
     "name": "stdout",
     "output_type": "stream",
     "text": [
      "<class 'IndexError'>\n"
     ]
    }
   ],
   "source": [
    "from socket import socket\n",
    "from tqdm import tqdm\n",
    "\n",
    "\n",
    "DataArr = []\n",
    "NotFoundeE = []\n",
    "count = 1\n",
    "for i in tqdm(range(1, 3)):\n",
    "    try:\n",
    "        url = f'http://www.pharmnet-dz.com/medic.aspx?id={i}'\n",
    "        reponse = requests.get(url)\n",
    "        soup = BeautifulSoup(reponse.text, \"html.parser\")\n",
    "        dataFrame = soup.find(\n",
    "            \"div\", {\"class\": \"col-lg-7 col-md-7 col-sm-8 col-xs-12\"}).get_text()\n",
    "        arr = dataFrame.split('\\n')\n",
    "        newArr = []\n",
    "        for el in arr:\n",
    "            if len(el) > 0:\n",
    "                el = el.replace('\\n', '').strip()\n",
    "                el = el.split(':')\n",
    "                if len(el) > 1:\n",
    "                    newArr.append({\n",
    "                        el[0]: el[1]\n",
    "                    })\n",
    "\n",
    "                else:\n",
    "                    newArr.append(el[0])\n",
    "    except :\n",
    "        NotFoundeE.append(i)\n",
    "    try:\n",
    "        a = soup.findAll(\"a\")[58]\n",
    "        Labo = a.attrs.get('href')\n",
    "        url = f'https://www.pharmnet-dz.com/{Labo}'\n",
    "        reponse = requests.get(url)\n",
    "        Labosoup = BeautifulSoup(reponse.text, \"html.parser\")\n",
    "        LaboData = Labosoup.findAll(\n",
    "            \"div\", {\"class\": \"col-lg-4 col-md-4 col-sm-4 col-xs-12\"})\n",
    "        LaboData = LaboData[1].get_text().replace('\\n', '')\n",
    "        adr = LaboData.find('Adresse')\n",
    "        tel = LaboData.find('Tel')\n",
    "        con = LaboData.find('Contacts')\n",
    "        web = LaboData.find('Web')\n",
    "        #\n",
    "        Adresse = LaboData[adr:tel].replace('Adresse:', '')\n",
    "        Tel = LaboData[tel:con].replace('Tel:', '')\n",
    "        Contacts = LaboData[con:web].replace('Contacts:', '')\n",
    "        Web = LaboData[web:].replace('Web:', '')\n",
    "        newArr[0] = {\n",
    "            \"Name\": newArr[0],\n",
    "            \"Adresse\": Adresse.replace(\"-\",\"\").strip(),\n",
    "            \"Tel\": Tel,\n",
    "            \"Contacts\": Contacts,\n",
    "            \"Web\": Web\n",
    "        }\n",
    "    except IndexError:\n",
    "        print(IndexError)\n",
    "\n",
    "    newArr = list(filter(None, newArr))\n",
    "    DataArr.append({\n",
    "        \"id\" : i,\n",
    "        \"DROGUE\" : newArr\n",
    "    })\n",
    "    count+=1\n",
    "    file3 = open('count.txt' , \"a\")\n",
    "    file3.write(str(count))\n",
    "\n",
    "\n",
    "\n",
    "file3.close()\n",
    "\n",
    "\n",
    "file1 = open('NotFoundeE.json' , \"w\")\n",
    "file1.write(str(NotFoundeE))\n",
    "file1.close()\n",
    "\n",
    "file2 = open('PharmaData.json' , \"w\")\n",
    "file2.write(str(DataArr))\n",
    "file2.close()\n",
    "\n",
    "\n"
   ]
  },
  {
   "cell_type": "code",
   "execution_count": 7,
   "metadata": {},
   "outputs": [],
   "source": [
    "DataArr = [\n",
    "   {\n",
    "      \"id\":1,\n",
    "      \"DROGUE\":[\n",
    "         {\n",
    "            \"Name\":\"CIPLA LIMITED\",\n",
    "            \"Adresse\":\"\",\n",
    "            \"Tel\":\"  - \",\n",
    "            \"Contacts\":\" \",\n",
    "            \"Web\":\" www.cipla.com\"\n",
    "         },\n",
    "         \"N/D\",\n",
    "         \"CANCEROLOGIE\",\n",
    "         \"PACLITAXEL\",\n",
    "         {\n",
    "            \"Nom Commercial\":\" PACLITAX\"\n",
    "         },\n",
    "         {\n",
    "            \"Code DCI\":\" 05G100\"\n",
    "         },\n",
    "         {\n",
    "            \"Forme\":\" SOL. PERF.\"\n",
    "         },\n",
    "         {\n",
    "            \"Dosage\":\" 6MG/ML (30MG/5ML - 100MG/16,5ML - 300MG/50ML)\"\n",
    "         },\n",
    "         {\n",
    "            \"Conditionnement\":\" B/1FL/5ML -  B/1FL/16,7ML ET B/1FL. DE 50ML\"\n",
    "         }\n",
    "      ]\n",
    "   },\n",
    "   {\n",
    "      \"id\":2,\n",
    "      \"DROGUE\":[\n",
    "         {\n",
    "            \"Name\":\"ELI LILLY\",\n",
    "            \"Adresse\":\"Lots du val d'Hydra villa n°30  16035 Hydra Algérie\",\n",
    "            \"Tel\":\"  - \",\n",
    "            \"Contacts\":\" \",\n",
    "            \"Web\":\" www.lilly.fr\"\n",
    "         },\n",
    "         \"AUTRES\",\n",
    "         \"CANCEROLOGIE\",\n",
    "         \"PEMETREXED DISODIQUE EXPRIME EN PEMETREXED\",\n",
    "         {\n",
    "            \"Nom Commercial\":\" ALIMTA\"\n",
    "         },\n",
    "         {\n",
    "            \"Code DCI\":\" 05G102\"\n",
    "         },\n",
    "         {\n",
    "            \"Forme\":\" LYOPH. SOL. INJ.\"\n",
    "         },\n",
    "         {\n",
    "            \"Dosage\":\" 500MG/FL. DE PDRE.\"\n",
    "         },\n",
    "         {\n",
    "            \"Conditionnement\":\" B/01FL. DE PDRE.\"\n",
    "         }\n",
    "      ]\n",
    "   },\n",
    "   {\n",
    "      \"id\":1,\n",
    "      \"DROGUE\":[\n",
    "         {\n",
    "            \"Name\":\"CIPLA LIMITED\",\n",
    "            \"Adresse\":\"\",\n",
    "            \"Tel\":\"  - \",\n",
    "            \"Contacts\":\" \",\n",
    "            \"Web\":\" www.cipla.com\"\n",
    "         },\n",
    "         \"N/D\",\n",
    "         \"CANCEROLOGIE\",\n",
    "         \"PACLITAXEL\",\n",
    "         {\n",
    "            \"Nom Commercial\":\" PACLITAX\"\n",
    "         },\n",
    "         {\n",
    "            \"Code DCI\":\" 05G100\"\n",
    "         },\n",
    "         {\n",
    "            \"Forme\":\" SOL. PERF.\"\n",
    "         },\n",
    "         {\n",
    "            \"Dosage\":\" 6MG/ML (30MG/5ML - 100MG/16,5ML - 300MG/50ML)\"\n",
    "         },\n",
    "         {\n",
    "            \"Conditionnement\":\" B/1FL/5ML -  B/1FL/16,7ML ET B/1FL. DE 50ML\"\n",
    "         }\n",
    "      ]\n",
    "   },\n",
    "   {\n",
    "      \"id\":2,\n",
    "      \"DROGUE\":[\n",
    "         {\n",
    "            \"Name\":\"ELI LILLY\",\n",
    "            \"Adresse\":\"Lots du val d'Hydra villa n°30  16035 Hydra Algérie\",\n",
    "            \"Tel\":\"  - \",\n",
    "            \"Contacts\":\" \",\n",
    "            \"Web\":\" www.lilly.fr\"\n",
    "         },\n",
    "         \"AUTRES\",\n",
    "         \"CANCEROLOGIE\",\n",
    "         \"PEMETREXED DISODIQUE EXPRIME EN PEMETREXED\",\n",
    "         {\n",
    "            \"Nom Commercial\":\" ALIMTA\"\n",
    "         },\n",
    "         {\n",
    "            \"Code DCI\":\" 05G102\"\n",
    "         },\n",
    "         {\n",
    "            \"Forme\":\" LYOPH. SOL. INJ.\"\n",
    "         },\n",
    "         {\n",
    "            \"Dosage\":\" 500MG/FL. DE PDRE.\"\n",
    "         },\n",
    "         {\n",
    "            \"Conditionnement\":\" B/01FL. DE PDRE.\"\n",
    "         }\n",
    "      ]\n",
    "   },\n",
    "   {\n",
    "      \"id\":1,\n",
    "      \"DROGUE\":[\n",
    "         {\n",
    "            \"Name\":\"CIPLA LIMITED\",\n",
    "            \"Adresse\":\"\",\n",
    "            \"Tel\":\"  - \",\n",
    "            \"Contacts\":\" \",\n",
    "            \"Web\":\" www.cipla.com\"\n",
    "         },\n",
    "         \"N/D\",\n",
    "         \"CANCEROLOGIE\",\n",
    "         \"PACLITAXEL\",\n",
    "         {\n",
    "            \"Nom Commercial\":\" PACLITAX\"\n",
    "         },\n",
    "         {\n",
    "            \"Code DCI\":\" 05G100\"\n",
    "         },\n",
    "         {\n",
    "            \"Forme\":\" SOL. PERF.\"\n",
    "         },\n",
    "         {\n",
    "            \"Dosage\":\" 6MG/ML (30MG/5ML - 100MG/16,5ML - 300MG/50ML)\"\n",
    "         },\n",
    "         {\n",
    "            \"Conditionnement\":\" B/1FL/5ML -  B/1FL/16,7ML ET B/1FL. DE 50ML\"\n",
    "         }\n",
    "      ]\n",
    "   },\n",
    "   {\n",
    "      \"id\":2,\n",
    "      \"DROGUE\":[\n",
    "         {\n",
    "            \"Name\":\"ELI LILLY\",\n",
    "            \"Adresse\":\"Lots du val d'Hydra villa n°30  16035 Hydra Algérie\",\n",
    "            \"Tel\":\"  - \",\n",
    "            \"Contacts\":\" \",\n",
    "            \"Web\":\" www.lilly.fr\"\n",
    "         },\n",
    "         \"AUTRES\",\n",
    "         \"CANCEROLOGIE\",\n",
    "         \"PEMETREXED DISODIQUE EXPRIME EN PEMETREXED\",\n",
    "         {\n",
    "            \"Nom Commercial\":\" ALIMTA\"\n",
    "         },\n",
    "         {\n",
    "            \"Code DCI\":\" 05G102\"\n",
    "         },\n",
    "         {\n",
    "            \"Forme\":\" LYOPH. SOL. INJ.\"\n",
    "         },\n",
    "         {\n",
    "            \"Dosage\":\" 500MG/FL. DE PDRE.\"\n",
    "         },\n",
    "         {\n",
    "            \"Conditionnement\":\" B/01FL. DE PDRE.\"\n",
    "         }\n",
    "      ]\n",
    "   },\n",
    "   {\n",
    "      \"id\":1,\n",
    "      \"DROGUE\":[\n",
    "         {\n",
    "            \"Name\":\"CIPLA LIMITED\",\n",
    "            \"Adresse\":\"\",\n",
    "            \"Tel\":\"  - \",\n",
    "            \"Contacts\":\" \",\n",
    "            \"Web\":\" www.cipla.com\"\n",
    "         },\n",
    "         \"N/D\",\n",
    "         \"CANCEROLOGIE\",\n",
    "         \"PACLITAXEL\",\n",
    "         {\n",
    "            \"Nom Commercial\":\" PACLITAX\"\n",
    "         },\n",
    "         {\n",
    "            \"Code DCI\":\" 05G100\"\n",
    "         },\n",
    "         {\n",
    "            \"Forme\":\" SOL. PERF.\"\n",
    "         },\n",
    "         {\n",
    "            \"Dosage\":\" 6MG/ML (30MG/5ML - 100MG/16,5ML - 300MG/50ML)\"\n",
    "         },\n",
    "         {\n",
    "            \"Conditionnement\":\" B/1FL/5ML -  B/1FL/16,7ML ET B/1FL. DE 50ML\"\n",
    "         }\n",
    "      ]\n",
    "   },\n",
    "   {\n",
    "      \"id\":2,\n",
    "      \"DROGUE\":[\n",
    "         {\n",
    "            \"Name\":\"ELI LILLY\",\n",
    "            \"Adresse\":\"Lots du val d'Hydra villa n°30  16035 Hydra Algérie\",\n",
    "            \"Tel\":\"  - \",\n",
    "            \"Contacts\":\" \",\n",
    "            \"Web\":\" www.lilly.fr\"\n",
    "         },\n",
    "         \"AUTRES\",\n",
    "         \"CANCEROLOGIE\",\n",
    "         \"PEMETREXED DISODIQUE EXPRIME EN PEMETREXED\",\n",
    "         {\n",
    "            \"Nom Commercial\":\" ALIMTA\"\n",
    "         },\n",
    "         {\n",
    "            \"Code DCI\":\" 05G102\"\n",
    "         },\n",
    "         {\n",
    "            \"Forme\":\" LYOPH. SOL. INJ.\"\n",
    "         },\n",
    "         {\n",
    "            \"Dosage\":\" 500MG/FL. DE PDRE.\"\n",
    "         },\n",
    "         {\n",
    "            \"Conditionnement\":\" B/01FL. DE PDRE.\"\n",
    "         }\n",
    "      ]\n",
    "   },\n",
    "   {\n",
    "      \"id\":1,\n",
    "      \"DROGUE\":[\n",
    "         {\n",
    "            \"Name\":\"CIPLA LIMITED\",\n",
    "            \"Adresse\":\"\",\n",
    "            \"Tel\":\"  - \",\n",
    "            \"Contacts\":\" \",\n",
    "            \"Web\":\" www.cipla.com\"\n",
    "         },\n",
    "         \"N/D\",\n",
    "         \"CANCEROLOGIE\",\n",
    "         \"PACLITAXEL\",\n",
    "         {\n",
    "            \"Nom Commercial\":\" PACLITAX\"\n",
    "         },\n",
    "         {\n",
    "            \"Code DCI\":\" 05G100\"\n",
    "         },\n",
    "         {\n",
    "            \"Forme\":\" SOL. PERF.\"\n",
    "         },\n",
    "         {\n",
    "            \"Dosage\":\" 6MG/ML (30MG/5ML - 100MG/16,5ML - 300MG/50ML)\"\n",
    "         },\n",
    "         {\n",
    "            \"Conditionnement\":\" B/1FL/5ML -  B/1FL/16,7ML ET B/1FL. DE 50ML\"\n",
    "         }\n",
    "      ]\n",
    "   },\n",
    "   {\n",
    "      \"id\":2,\n",
    "      \"DROGUE\":[\n",
    "         {\n",
    "            \"Name\":\"ELI LILLY\",\n",
    "            \"Adresse\":\"Lots du val d'Hydra villa n°30  16035 Hydra Algérie\",\n",
    "            \"Tel\":\"  - \",\n",
    "            \"Contacts\":\" \",\n",
    "            \"Web\":\" www.lilly.fr\"\n",
    "         },\n",
    "         \"AUTRES\",\n",
    "         \"CANCEROLOGIE\",\n",
    "         \"PEMETREXED DISODIQUE EXPRIME EN PEMETREXED\",\n",
    "         {\n",
    "            \"Nom Commercial\":\" ALIMTA\"\n",
    "         },\n",
    "         {\n",
    "            \"Code DCI\":\" 05G102\"\n",
    "         },\n",
    "         {\n",
    "            \"Forme\":\" LYOPH. SOL. INJ.\"\n",
    "         },\n",
    "         {\n",
    "            \"Dosage\":\" 500MG/FL. DE PDRE.\"\n",
    "         },\n",
    "         {\n",
    "            \"Conditionnement\":\" B/01FL. DE PDRE.\"\n",
    "         }\n",
    "      ]\n",
    "   },\n",
    "   {\n",
    "      \"id\":1,\n",
    "      \"DROGUE\":[\n",
    "         {\n",
    "            \"Name\":\"CIPLA LIMITED\",\n",
    "            \"Adresse\":\"\",\n",
    "            \"Tel\":\"  - \",\n",
    "            \"Contacts\":\" \",\n",
    "            \"Web\":\" www.cipla.com\"\n",
    "         },\n",
    "         \"N/D\",\n",
    "         \"CANCEROLOGIE\",\n",
    "         \"PACLITAXEL\",\n",
    "         {\n",
    "            \"Nom Commercial\":\" PACLITAX\"\n",
    "         },\n",
    "         {\n",
    "            \"Code DCI\":\" 05G100\"\n",
    "         },\n",
    "         {\n",
    "            \"Forme\":\" SOL. PERF.\"\n",
    "         },\n",
    "         {\n",
    "            \"Dosage\":\" 6MG/ML (30MG/5ML - 100MG/16,5ML - 300MG/50ML)\"\n",
    "         },\n",
    "         {\n",
    "            \"Conditionnement\":\" B/1FL/5ML -  B/1FL/16,7ML ET B/1FL. DE 50ML\"\n",
    "         }\n",
    "      ]\n",
    "   },\n",
    "   {\n",
    "      \"id\":2,\n",
    "      \"DROGUE\":[\n",
    "         {\n",
    "            \"Name\":\"ELI LILLY\",\n",
    "            \"Adresse\":\"Lots du val d'Hydra villa n°30  16035 Hydra Algérie\",\n",
    "            \"Tel\":\"  - \",\n",
    "            \"Contacts\":\" \",\n",
    "            \"Web\":\" www.lilly.fr\"\n",
    "         },\n",
    "         \"AUTRES\",\n",
    "         \"CANCEROLOGIE\",\n",
    "         \"PEMETREXED DISODIQUE EXPRIME EN PEMETREXED\",\n",
    "         {\n",
    "            \"Nom Commercial\":\" ALIMTA\"\n",
    "         },\n",
    "         {\n",
    "            \"Code DCI\":\" 05G102\"\n",
    "         },\n",
    "         {\n",
    "            \"Forme\":\" LYOPH. SOL. INJ.\"\n",
    "         },\n",
    "         {\n",
    "            \"Dosage\":\" 500MG/FL. DE PDRE.\"\n",
    "         },\n",
    "         {\n",
    "            \"Conditionnement\":\" B/01FL. DE PDRE.\"\n",
    "         }\n",
    "      ]\n",
    "   },\n",
    "   {\n",
    "      \"id\":1,\n",
    "      \"DROGUE\":[\n",
    "         {\n",
    "            \"Name\":\"CIPLA LIMITED\",\n",
    "            \"Adresse\":\"\",\n",
    "            \"Tel\":\"  - \",\n",
    "            \"Contacts\":\" \",\n",
    "            \"Web\":\" www.cipla.com\"\n",
    "         },\n",
    "         \"N/D\",\n",
    "         \"CANCEROLOGIE\",\n",
    "         \"PACLITAXEL\",\n",
    "         {\n",
    "            \"Nom Commercial\":\" PACLITAX\"\n",
    "         },\n",
    "         {\n",
    "            \"Code DCI\":\" 05G100\"\n",
    "         },\n",
    "         {\n",
    "            \"Forme\":\" SOL. PERF.\"\n",
    "         },\n",
    "         {\n",
    "            \"Dosage\":\" 6MG/ML (30MG/5ML - 100MG/16,5ML - 300MG/50ML)\"\n",
    "         },\n",
    "         {\n",
    "            \"Conditionnement\":\" B/1FL/5ML -  B/1FL/16,7ML ET B/1FL. DE 50ML\"\n",
    "         }\n",
    "      ]\n",
    "   },\n",
    "   {\n",
    "      \"id\":2,\n",
    "      \"DROGUE\":[\n",
    "         {\n",
    "            \"Name\":\"ELI LILLY\",\n",
    "            \"Adresse\":\"Lots du val d'Hydra villa n°30  16035 Hydra Algérie\",\n",
    "            \"Tel\":\"  - \",\n",
    "            \"Contacts\":\" \",\n",
    "            \"Web\":\" www.lilly.fr\"\n",
    "         },\n",
    "         \"AUTRES\",\n",
    "         \"CANCEROLOGIE\",\n",
    "         \"PEMETREXED DISODIQUE EXPRIME EN PEMETREXED\",\n",
    "         {\n",
    "            \"Nom Commercial\":\" ALIMTA\"\n",
    "         },\n",
    "         {\n",
    "            \"Code DCI\":\" 05G102\"\n",
    "         },\n",
    "         {\n",
    "            \"Forme\":\" LYOPH. SOL. INJ.\"\n",
    "         },\n",
    "         {\n",
    "            \"Dosage\":\" 500MG/FL. DE PDRE.\"\n",
    "         },\n",
    "         {\n",
    "            \"Conditionnement\":\" B/01FL. DE PDRE.\"\n",
    "         }\n",
    "      ]\n",
    "   },\n",
    "   {\n",
    "      \"id\":3,\n",
    "      \"DROGUE\":[\n",
    "         \"MUSTAFA NEVZAT\",\n",
    "         \"A.T.U.(AUTORISATION TEMPORAIRE D'UTILISATION )\",\n",
    "         \"CANCEROLOGIE\",\n",
    "         \"PEMETREXED DISODIQUE EXPRIME EN PEMETREXED\",\n",
    "         {\n",
    "            \"Nom Commercial\":\" PREXET\"\n",
    "         },\n",
    "         {\n",
    "            \"Code DCI\":\" 05G102\"\n",
    "         },\n",
    "         {\n",
    "            \"Forme\":\" LYOPH. SOL. INJ.\"\n",
    "         },\n",
    "         {\n",
    "            \"Dosage\":\" 500MG/FL. DE PDRE.\"\n",
    "         },\n",
    "         {\n",
    "            \"Conditionnement\":\" B/01 FL. DE PDRE.\"\n",
    "         }\n",
    "      ]\n",
    "   },\n",
    "   {\n",
    "      \"id\":4,\n",
    "      \"DROGUE\":[\n",
    "         \"INTAS PHARMACEUTICALS LTD\",\n",
    "         \"N/D\",\n",
    "         \"CANCEROLOGIE\",\n",
    "         \"EPIRUBICINE CHLORHYDRATE\",\n",
    "         {\n",
    "            \"Nom Commercial\":\" EPINTAS\"\n",
    "         },\n",
    "         {\n",
    "            \"Code DCI\":\" 05G103\"\n",
    "         },\n",
    "         {\n",
    "            \"Forme\":\" SOL. PERF.\"\n",
    "         },\n",
    "         {\n",
    "            \"Dosage\":\" 2MG/ML (10MG/5ML  ET 50MG/25ML)\"\n",
    "         },\n",
    "         {\n",
    "            \"Conditionnement\":\" B/01FL. DE 5ML ET B/01FL. DE 25ML\"\n",
    "         }\n",
    "      ]\n",
    "   },\n",
    "   {\n",
    "      \"id\":5,\n",
    "      \"DROGUE\":[\n",
    "         \"HIKMA PHARMACEUTICALS\",\n",
    "         \"N/D\",\n",
    "         \"CANCEROLOGIE\",\n",
    "         \"EPIRUBICINE CHLORHYDRATE\",\n",
    "         {\n",
    "            \"Nom Commercial\":\" PIRUCIN\"\n",
    "         },\n",
    "         {\n",
    "            \"Code DCI\":\" 05G103\"\n",
    "         },\n",
    "         {\n",
    "            \"Forme\":\" SOL. PERF.\"\n",
    "         },\n",
    "         {\n",
    "            \"Dosage\":\" 2MG/ML (10MG/5ML - 50MG/25ML ET 200MG/100ML)\"\n",
    "         },\n",
    "         {\n",
    "            \"Conditionnement\":\" B/01FL. DE 5ML - B/01FL. DE 25ML ET B/01FL. DE 100ML\"\n",
    "         }\n",
    "      ]\n",
    "   },\n",
    "   {\n",
    "      \"id\":6,\n",
    "      \"DROGUE\":[\n",
    "         {\n",
    "            \"Name\":\"BAXTER\",\n",
    "            \"Adresse\":\"Lotissement Boursas n°32 Haut site Hydra,Ben Aknoune, Alger, Algérie\",\n",
    "            \"Tel\":\" 023230366 - \",\n",
    "            \"Contacts\":\" \",\n",
    "            \"Web\":\" www.baxter.fr\"\n",
    "         },\n",
    "         \"N/D\",\n",
    "         \"CANCEROLOGIE\",\n",
    "         \"CYCLOPHOSPHAMIDE MONOHYDRATEE EXPRIME EN CYCLOPHOSPHAMIDE\",\n",
    "         {\n",
    "            \"Nom Commercial\":\" ENDOXAN\"\n",
    "         },\n",
    "         {\n",
    "            \"Code DCI\":\" 05G104\"\n",
    "         },\n",
    "         {\n",
    "            \"Forme\":\" PDRE. SOL. INJ.\"\n",
    "         },\n",
    "         {\n",
    "            \"Dosage\":\" 1G/FL. DE PDRE\"\n",
    "         },\n",
    "         {\n",
    "            \"Conditionnement\":\" B/01FL. DE PDRE. DE CONTENANCE 75ML\"\n",
    "         }\n",
    "      ]\n",
    "   },\n",
    "   {\n",
    "      \"id\":7,\n",
    "      \"DROGUE\":[\n",
    "         {\n",
    "            \"Name\":\"BAXTER\",\n",
    "            \"Adresse\":\"Lotissement Boursas n°32 Haut site Hydra,Ben Aknoune, Alger, Algérie\",\n",
    "            \"Tel\":\" 023230366 - \",\n",
    "            \"Contacts\":\" \",\n",
    "            \"Web\":\" www.baxter.fr\"\n",
    "         },\n",
    "         \"N/D\",\n",
    "         \"CANCEROLOGIE\",\n",
    "         \"IFOSFAMIDE\",\n",
    "         {\n",
    "            \"Nom Commercial\":\" HOLOXAN\"\n",
    "         },\n",
    "         {\n",
    "            \"Code DCI\":\" 05G106\"\n",
    "         },\n",
    "         {\n",
    "            \"Forme\":\" PDRE. SOL. INJ.\"\n",
    "         },\n",
    "         {\n",
    "            \"Dosage\":\" 1G/FL. DE PDRE.\"\n",
    "         },\n",
    "         {\n",
    "            \"Conditionnement\":\" B/01FL. DE PDRE. DE CONTENANCE DE 30ML\"\n",
    "         }\n",
    "      ]\n",
    "   },\n",
    "   {\n",
    "      \"id\":8,\n",
    "      \"DROGUE\":[\n",
    "         \"CIPLA LIMITED\",\n",
    "         \"N/D\",\n",
    "         \"CANCEROLOGIE\",\n",
    "         \"CAPECITABINE\",\n",
    "         {\n",
    "            \"Nom Commercial\":\" CAPEGARD\"\n",
    "         },\n",
    "         {\n",
    "            \"Code DCI\":\" 05G108\"\n",
    "         },\n",
    "         {\n",
    "            \"Forme\":\" COMP. PELLI.\"\n",
    "         },\n",
    "         {\n",
    "            \"Dosage\":\" 500MG\"\n",
    "         },\n",
    "         {\n",
    "            \"Conditionnement\":\" B/10\"\n",
    "         }\n",
    "      ]\n",
    "   },\n",
    "   {\n",
    "      \"id\":9,\n",
    "      \"DROGUE\":[\n",
    "         \"INTAS PHARMACEUTICALS LTD\",\n",
    "         \"N/D\",\n",
    "         \"CANCEROLOGIE\",\n",
    "         \"CAPECITABINE\",\n",
    "         {\n",
    "            \"Nom Commercial\":\" CAPEMAX\"\n",
    "         },\n",
    "         {\n",
    "            \"Code DCI\":\" 05G108\"\n",
    "         },\n",
    "         {\n",
    "            \"Forme\":\" COMP. PELLI.\"\n",
    "         },\n",
    "         {\n",
    "            \"Dosage\":\" 500MG\"\n",
    "         },\n",
    "         {\n",
    "            \"Conditionnement\":\" B/120\"\n",
    "         }\n",
    "      ]\n",
    "   },\n",
    "   {\n",
    "      \"id\":10,\n",
    "      \"DROGUE\":[\n",
    "         {\n",
    "            \"Name\":\"ROCHE\",\n",
    "            \"Adresse\":\"39, Rue Bousmaha Khaled Ahmed (ex 39, Rue BELKACEM Amani) Hydra, Alger, Algérie.\",\n",
    "            \"Tel\":\" +213 (0) 21 60 10 79+213 (0) 21 60 10 74  - \",\n",
    "            \"Contacts\":\" \",\n",
    "            \"Web\":\" www.roche.fr\"\n",
    "         },\n",
    "         \"AUTRES\",\n",
    "         \"CANCEROLOGIE\",\n",
    "         \"CAPECITABINE\",\n",
    "         {\n",
    "            \"Nom Commercial\":\" XELODA\"\n",
    "         },\n",
    "         {\n",
    "            \"Code DCI\":\" 05G108\"\n",
    "         },\n",
    "         {\n",
    "            \"Forme\":\" COMP. PELLI.\"\n",
    "         },\n",
    "         {\n",
    "            \"Dosage\":\" 500MG\"\n",
    "         },\n",
    "         {\n",
    "            \"Conditionnement\":\" B/120\"\n",
    "         }\n",
    "      ]\n",
    "   },\n",
    "   {\n",
    "      \"id\":11,\n",
    "      \"DROGUE\":[\n",
    "         {\n",
    "            \"Name\":\"EBEWE PHARMA\",\n",
    "            \"Adresse\":\"\",\n",
    "            \"Tel\":\"  - \",\n",
    "            \"Contacts\":\" \",\n",
    "            \"Web\":\" \"\n",
    "         },\n",
    "         \"AUTRES\",\n",
    "         \"CANCEROLOGIE\",\n",
    "         \"CISPLATINE\",\n",
    "         {\n",
    "            \"Nom Commercial\":\" CISPLATIN EBEWE\"\n",
    "         },\n",
    "         {\n",
    "            \"Code DCI\":\" 05G110\"\n",
    "         },\n",
    "         {\n",
    "            \"Forme\":\" SOL. INJ.\"\n",
    "         },\n",
    "         {\n",
    "            \"Dosage\":\" 0,5MG/ML (25MG/50ML) - (50MG/100ML)\"\n",
    "         },\n",
    "         {\n",
    "            \"Conditionnement\":\" B/1FL DE 50 ML  - B/1FL. DE 100ML\"\n",
    "         }\n",
    "      ]\n",
    "   },\n",
    "   {\n",
    "      \"id\":12,\n",
    "      \"DROGUE\":[\n",
    "         {\n",
    "            \"Name\":\"MYLAN\",\n",
    "            \"Adresse\":\"\",\n",
    "            \"Tel\":\"  - \",\n",
    "            \"Contacts\":\" \",\n",
    "            \"Web\":\" www.mylan.fr\"\n",
    "         },\n",
    "         \"A.T.U.(AUTORISATION TEMPORAIRE D'UTILISATION )\",\n",
    "         \"CANCEROLOGIE\",\n",
    "         \"CISPLATINE\",\n",
    "         {\n",
    "            \"Nom Commercial\":\" CISPLATINE MYLAN\"\n",
    "         },\n",
    "         {\n",
    "            \"Code DCI\":\" 05G111\"\n",
    "         },\n",
    "         {\n",
    "            \"Forme\":\" SOL. INJ.\"\n",
    "         },\n",
    "         {\n",
    "            \"Dosage\":\" 1MG/ML (OU 10MG/10ML - 25MG/25ML - 50MG/50ML)\"\n",
    "         },\n",
    "         {\n",
    "            \"Conditionnement\":\" FL./10ML - FL./25ML - FL./50ML\"\n",
    "         }\n",
    "      ]\n",
    "   },\n",
    "   {\n",
    "      \"id\":13,\n",
    "      \"DROGUE\":[\n",
    "         {\n",
    "            \"Name\":\"PIERRE FABRE MEDICAMENT\",\n",
    "            \"Adresse\":\"Lotissement El Kadous lot N° 10 (Immeuble Siemens) Moutchatchou, Haut site d’Hydr\",\n",
    "            \"Tel\":\" +21 37 70 11 47 69 - \",\n",
    "            \"Contacts\":\" \",\n",
    "            \"Web\":\" www.pierre-fabre.com/fr/implantations/algerie\"\n",
    "         },\n",
    "         \"N/D\",\n",
    "         \"CANCEROLOGIE\",\n",
    "         \"VINORELBINE\",\n",
    "         {\n",
    "            \"Nom Commercial\":\" NAVELBINE\"\n",
    "         },\n",
    "         {\n",
    "            \"Code DCI\":\" 05G114\"\n",
    "         },\n",
    "         {\n",
    "            \"Forme\":\" CAPS. MOLLE\"\n",
    "         },\n",
    "         {\n",
    "            \"Dosage\":\" 20MG\"\n",
    "         },\n",
    "         {\n",
    "            \"Conditionnement\":\" B/1\"\n",
    "         }\n",
    "      ]\n",
    "   },\n",
    "   {\n",
    "      \"id\":14,\n",
    "      \"DROGUE\":[\n",
    "         {\n",
    "            \"Name\":\"PIERRE FABRE MEDICAMENT\",\n",
    "            \"Adresse\":\"Lotissement El Kadous lot N° 10 (Immeuble Siemens) Moutchatchou, Haut site d’Hydr\",\n",
    "            \"Tel\":\" +21 37 70 11 47 69 - \",\n",
    "            \"Contacts\":\" \",\n",
    "            \"Web\":\" www.pierre-fabre.com/fr/implantations/algerie\"\n",
    "         },\n",
    "         \"N/D\",\n",
    "         \"CANCEROLOGIE\",\n",
    "         \"VINORELBINE\",\n",
    "         {\n",
    "            \"Nom Commercial\":\" NAVELBINE\"\n",
    "         },\n",
    "         {\n",
    "            \"Code DCI\":\" 05G115\"\n",
    "         },\n",
    "         {\n",
    "            \"Forme\":\" CAPS. MOLLE\"\n",
    "         },\n",
    "         {\n",
    "            \"Dosage\":\" 30MG\"\n",
    "         },\n",
    "         {\n",
    "            \"Conditionnement\":\" B/1\"\n",
    "         }\n",
    "      ]\n",
    "   },\n",
    "   {\n",
    "      \"id\":15,\n",
    "      \"DROGUE\":[\n",
    "         \"EBEWE PHARMA\",\n",
    "         \"AUTRES\",\n",
    "         \"CANCEROLOGIE\",\n",
    "         \"METHOTREXATE\",\n",
    "         {\n",
    "            \"Nom Commercial\":\" METHOTREXAT EBEWE\"\n",
    "         },\n",
    "         {\n",
    "            \"Code DCI\":\" 05G124\"\n",
    "         },\n",
    "         {\n",
    "            \"Forme\":\" SOL. INJ.\"\n",
    "         },\n",
    "         {\n",
    "            \"Dosage\":\" 10MG/ML (OU 50MG/5ML)\"\n",
    "         },\n",
    "         {\n",
    "            \"Conditionnement\":\" B/1FL/5 ML\"\n",
    "         }\n",
    "      ]\n",
    "   },\n",
    "   {\n",
    "      \"id\":16,\n",
    "      \"DROGUE\":[\n",
    "         {\n",
    "            \"Name\":\"MYLAN\",\n",
    "            \"Adresse\":\"\",\n",
    "            \"Tel\":\"  - \",\n",
    "            \"Contacts\":\" \",\n",
    "            \"Web\":\" www.mylan.fr\"\n",
    "         },\n",
    "         \"N/D\",\n",
    "         \"CANCEROLOGIE\",\n",
    "         \"METHOTREXATE\",\n",
    "         {\n",
    "            \"Nom Commercial\":\" METHOTREXATE MYLAN\"\n",
    "         },\n",
    "         {\n",
    "            \"Code DCI\":\" 05G126\"\n",
    "         },\n",
    "         {\n",
    "            \"Forme\":\" SOL. INJ.\"\n",
    "         },\n",
    "         {\n",
    "            \"Dosage\":\" 100MG/ML (1G/10ML - 5G/50ML)\"\n",
    "         },\n",
    "         {\n",
    "            \"Conditionnement\":\" B/10FL. DE 10ML ET B/10FL DE /50ML\"\n",
    "         }\n",
    "      ]\n",
    "   },\n",
    "   {\n",
    "      \"id\":17,\n",
    "      \"DROGUE\":[\n",
    "         \"CIPLA LIMITED\",\n",
    "         \"N/D\",\n",
    "         \"CANCEROLOGIE\",\n",
    "         \"TEMOZOLOMIDE\",\n",
    "         {\n",
    "            \"Nom Commercial\":\" TEMOSIDE\"\n",
    "         },\n",
    "         {\n",
    "            \"Code DCI\":\" 05G130\"\n",
    "         },\n",
    "         {\n",
    "            \"Forme\":\" GLES.\"\n",
    "         },\n",
    "         {\n",
    "            \"Dosage\":\" 100MG\"\n",
    "         },\n",
    "         {\n",
    "            \"Conditionnement\":\" B/05\"\n",
    "         }\n",
    "      ]\n",
    "   },\n",
    "   {\n",
    "      \"id\":18,\n",
    "      \"DROGUE\":[\n",
    "         \"CIPLA LIMITED\",\n",
    "         \"N/D\",\n",
    "         \"CANCEROLOGIE\",\n",
    "         \"TEMOZOLOMIDE\",\n",
    "         {\n",
    "            \"Nom Commercial\":\" TEMOSIDE\"\n",
    "         },\n",
    "         {\n",
    "            \"Code DCI\":\" 05G131\"\n",
    "         },\n",
    "         {\n",
    "            \"Forme\":\" GLES.\"\n",
    "         },\n",
    "         {\n",
    "            \"Dosage\":\" 250MG\"\n",
    "         },\n",
    "         {\n",
    "            \"Conditionnement\":\" B/05\"\n",
    "         }\n",
    "      ]\n",
    "   },\n",
    "   {\n",
    "      \"id\":19,\n",
    "      \"DROGUE\":[\n",
    "         {\n",
    "            \"Name\":\"BAXTER\",\n",
    "            \"Adresse\":\"Lotissement Boursas n°32 Haut site Hydra,Ben Aknoune, Alger, Algérie\",\n",
    "            \"Tel\":\" 023230366 - \",\n",
    "            \"Contacts\":\" \",\n",
    "            \"Web\":\" www.baxter.fr\"\n",
    "         },\n",
    "         \"N/D\",\n",
    "         \"CANCEROLOGIE\",\n",
    "         \"IFOSFAMIDE\",\n",
    "         {\n",
    "            \"Nom Commercial\":\" HOLOXAN\"\n",
    "         },\n",
    "         {\n",
    "            \"Code DCI\":\" 05G138\"\n",
    "         },\n",
    "         {\n",
    "            \"Forme\":\" PDRE. SOL. INJ.\"\n",
    "         },\n",
    "         {\n",
    "            \"Dosage\":\" 2G/FL. DE PDRE.\"\n",
    "         },\n",
    "         {\n",
    "            \"Conditionnement\":\" B/01FL. DE PDRE. DE CONTENANCE DE 50ML\"\n",
    "         }\n",
    "      ]\n",
    "   }\n",
    "]"
   ]
  },
  {
   "cell_type": "code",
   "execution_count": 16,
   "metadata": {},
   "outputs": [],
   "source": [
    "import time\n",
    "import pyautogui\n",
    "time.sleep(3)\n",
    "\n",
    "\n",
    "AddProductX, AddProductY = pyautogui.position()\n",
    "pyautogui.click()\n"
   ]
  },
  {
   "cell_type": "code",
   "execution_count": 1,
   "metadata": {},
   "outputs": [],
   "source": [
    "import time\n",
    "import pyautogui"
   ]
  },
  {
   "cell_type": "code",
   "execution_count": null,
   "metadata": {},
   "outputs": [],
   "source": []
  },
  {
   "cell_type": "code",
   "execution_count": 19,
   "metadata": {},
   "outputs": [
    {
     "ename": "KeyboardInterrupt",
     "evalue": "",
     "output_type": "error",
     "traceback": [
      "\u001b[1;31m---------------------------------------------------------------------------\u001b[0m",
      "\u001b[1;31mKeyboardInterrupt\u001b[0m                         Traceback (most recent call last)",
      "\u001b[1;32mc:\\Users\\hassa\\OneDrive\\Bureau\\Nouveau dossier\\app.ipynb Cellule 19\u001b[0m in \u001b[0;36m<cell line: 10>\u001b[1;34m()\u001b[0m\n\u001b[0;32m     <a href='vscode-notebook-cell:/c%3A/Users/hassa/OneDrive/Bureau/Nouveau%20dossier/app.ipynb#X24sZmlsZQ%3D%3D?line=49'>50</a>\u001b[0m pyautogui\u001b[39m.\u001b[39mpress(\u001b[39m'\u001b[39m\u001b[39mtab\u001b[39m\u001b[39m'\u001b[39m)\n\u001b[0;32m     <a href='vscode-notebook-cell:/c%3A/Users/hassa/OneDrive/Bureau/Nouveau%20dossier/app.ipynb#X24sZmlsZQ%3D%3D?line=50'>51</a>\u001b[0m pyautogui\u001b[39m.\u001b[39mwrite(drog\u001b[39m.\u001b[39mget(\u001b[39m'\u001b[39m\u001b[39mDROGUE\u001b[39m\u001b[39m'\u001b[39m)[\u001b[39m0\u001b[39m]\u001b[39m.\u001b[39mget(\u001b[39m'\u001b[39m\u001b[39mAdresse\u001b[39m\u001b[39m'\u001b[39m))\n\u001b[1;32m---> <a href='vscode-notebook-cell:/c%3A/Users/hassa/OneDrive/Bureau/Nouveau%20dossier/app.ipynb#X24sZmlsZQ%3D%3D?line=51'>52</a>\u001b[0m pyautogui\u001b[39m.\u001b[39;49mpress(\u001b[39m'\u001b[39;49m\u001b[39mtab\u001b[39;49m\u001b[39m'\u001b[39;49m)\n\u001b[0;32m     <a href='vscode-notebook-cell:/c%3A/Users/hassa/OneDrive/Bureau/Nouveau%20dossier/app.ipynb#X24sZmlsZQ%3D%3D?line=52'>53</a>\u001b[0m pyautogui\u001b[39m.\u001b[39mwrite(drog\u001b[39m.\u001b[39mget(\u001b[39m'\u001b[39m\u001b[39mDROGUE\u001b[39m\u001b[39m'\u001b[39m)[\u001b[39m0\u001b[39m]\u001b[39m.\u001b[39mget(\u001b[39m'\u001b[39m\u001b[39mTel\u001b[39m\u001b[39m'\u001b[39m))\n\u001b[0;32m     <a href='vscode-notebook-cell:/c%3A/Users/hassa/OneDrive/Bureau/Nouveau%20dossier/app.ipynb#X24sZmlsZQ%3D%3D?line=53'>54</a>\u001b[0m pyautogui\u001b[39m.\u001b[39mpress(\u001b[39m'\u001b[39m\u001b[39mtab\u001b[39m\u001b[39m'\u001b[39m)\n",
      "File \u001b[1;32mc:\\Users\\hassa\\OneDrive\\Bureau\\Nouveau dossier\\.venv\\lib\\site-packages\\pyautogui\\__init__.py:599\u001b[0m, in \u001b[0;36m_genericPyAutoGUIChecks.<locals>.wrapper\u001b[1;34m(*args, **kwargs)\u001b[0m\n\u001b[0;32m    597\u001b[0m failSafeCheck()\n\u001b[0;32m    598\u001b[0m returnVal \u001b[39m=\u001b[39m wrappedFunction(\u001b[39m*\u001b[39margs, \u001b[39m*\u001b[39m\u001b[39m*\u001b[39mkwargs)\n\u001b[1;32m--> 599\u001b[0m _handlePause(kwargs\u001b[39m.\u001b[39;49mget(\u001b[39m\"\u001b[39;49m\u001b[39m_pause\u001b[39;49m\u001b[39m\"\u001b[39;49m, \u001b[39mTrue\u001b[39;49;00m))\n\u001b[0;32m    600\u001b[0m \u001b[39mreturn\u001b[39;00m returnVal\n",
      "File \u001b[1;32mc:\\Users\\hassa\\OneDrive\\Bureau\\Nouveau dossier\\.venv\\lib\\site-packages\\pyautogui\\__init__.py:643\u001b[0m, in \u001b[0;36m_handlePause\u001b[1;34m(_pause)\u001b[0m\n\u001b[0;32m    641\u001b[0m \u001b[39mif\u001b[39;00m _pause:\n\u001b[0;32m    642\u001b[0m     \u001b[39massert\u001b[39;00m \u001b[39misinstance\u001b[39m(PAUSE, \u001b[39mint\u001b[39m) \u001b[39mor\u001b[39;00m \u001b[39misinstance\u001b[39m(PAUSE, \u001b[39mfloat\u001b[39m)\n\u001b[1;32m--> 643\u001b[0m     time\u001b[39m.\u001b[39;49msleep(PAUSE)\n",
      "\u001b[1;31mKeyboardInterrupt\u001b[0m: "
     ]
    }
   ],
   "source": [
    "\n",
    "\n",
    "# import os\n",
    "# os.system(\"pause\")\n",
    "drogs = DataArr\n",
    "\n",
    "time.sleep(10)\n",
    "\n",
    "for drog in drogs:\n",
    "    pyautogui.moveTo(83, 131)\n",
    "    pyautogui.click()\n",
    "    pyautogui.write(drog.get('DROGUE')[4].get('Nom Commercial') + drog.get('DROGUE')[-1].get('Conditionnement'))\n",
    "\n",
    "    pyautogui.press('tab')\n",
    "    pyautogui.press('tab')\n",
    "    pyautogui.press('enter')\n",
    "    pyautogui.press('down')\n",
    "    pyautogui.press('enter')\n",
    "    pyautogui.write(drog.get('DROGUE')[3])\n",
    "\n",
    "    pyautogui.press('enter')\n",
    "    pyautogui.press('tab')\n",
    "    pyautogui.press('tab')\n",
    "    pyautogui.press('tab')\n",
    "    pyautogui.write(drog.get('DROGUE')[-2].get('Dosage'))\n",
    "\n",
    "    pyautogui.press('tab')\n",
    "    pyautogui.press('tab')\n",
    "    pyautogui.press('enter')\n",
    "    pyautogui.press('down')\n",
    "    pyautogui.press('enter')\n",
    "    pyautogui.write(drog.get('DROGUE')[-3].get('Forme').replace('.', ' '))\n",
    "\n",
    "    pyautogui.press('enter')\n",
    "    pyautogui.press('tab')\n",
    "    pyautogui.press('tab')\n",
    "    pyautogui.press('tab')\n",
    "    pyautogui.press('tab')\n",
    "    pyautogui.press('tab')\n",
    "    pyautogui.press('tab')\n",
    "    pyautogui.press('tab')\n",
    "    pyautogui.press('tab')\n",
    "    pyautogui.press('enter')\n",
    "    pyautogui.press('down')\n",
    "    pyautogui.press('enter')\n",
    "    pyautogui.write(drog.get('DROGUE')[0].get('Name'))\n",
    "    pyautogui.press('tab')\n",
    "    pyautogui.write(drog.get('DROGUE')[0].get('Contacts'))\n",
    "    pyautogui.press('tab')\n",
    "    pyautogui.write(drog.get('DROGUE')[0].get('Adresse'))\n",
    "    pyautogui.press('tab')\n",
    "    pyautogui.write(drog.get('DROGUE')[0].get('Tel'))\n",
    "    pyautogui.press('tab')\n",
    "    pyautogui.press('tab')\n",
    "    pyautogui.press('tab')\n",
    "    pyautogui.write(drog.get('DROGUE')[0].get('Web'))\n",
    "    pyautogui.press('enter')\n",
    "\n",
    "\n",
    "    pyautogui.moveTo(805 , 387)\n",
    "\n",
    "    pyautogui.click()\n",
    "    pyautogui.write(drog.get('DROGUE')[5].get('Code DCI'))\n",
    "\n",
    "    time.sleep(2)\n",
    "\n",
    "    pyautogui.press('esc')"
   ]
  },
  {
   "cell_type": "code",
   "execution_count": null,
   "metadata": {},
   "outputs": [],
   "source": []
  }
 ],
 "metadata": {
  "kernelspec": {
   "display_name": "Python 3.9.12 ('.venv': venv)",
   "language": "python",
   "name": "python3"
  },
  "language_info": {
   "codemirror_mode": {
    "name": "ipython",
    "version": 3
   },
   "file_extension": ".py",
   "mimetype": "text/x-python",
   "name": "python",
   "nbconvert_exporter": "python",
   "pygments_lexer": "ipython3",
   "version": "3.9.12"
  },
  "orig_nbformat": 4,
  "vscode": {
   "interpreter": {
    "hash": "6cdec638393e9b8c0942c040c719a28b3b41e8f4bf424eede5feee8b71ae609d"
   }
  }
 },
 "nbformat": 4,
 "nbformat_minor": 2
}
