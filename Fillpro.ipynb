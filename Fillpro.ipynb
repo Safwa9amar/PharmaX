{
 "cells": [
  {
   "cell_type": "code",
   "execution_count": 1,
   "metadata": {},
   "outputs": [],
   "source": [
    "import pandas as pd\n",
    "import pyautogui as astro\n",
    "import pyperclip\n",
    "import time\n",
    "from tqdm import tqdm"
   ]
  },
  {
   "cell_type": "code",
   "execution_count": 12,
   "metadata": {},
   "outputs": [],
   "source": [
    "presentation = pd.read_excel('mdbxls/added/NewPresentation - add.xlsx')"
   ]
  },
  {
   "cell_type": "code",
   "execution_count": 2,
   "metadata": {},
   "outputs": [],
   "source": [
    "def getDataDict(df,arr):\n",
    "   df.columns = arr\n",
    "   df.head()\n",
    "   data = df.to_dict()\n",
    "   data_dict = []\n",
    "   for index, row in df[df.columns].iterrows():\n",
    "        data_dict.append({row.to_list()[0] : row.to_list()[1:]})\n",
    "   return data_dict\n"
   ]
  },
  {
   "cell_type": "code",
   "execution_count": 35,
   "metadata": {},
   "outputs": [
    {
     "name": "stderr",
     "output_type": "stream",
     "text": [
      "100%|██████████| 92/92 [00:52<00:00,  1.74it/s]\n"
     ]
    }
   ],
   "source": [
    "\n",
    "time.sleep(1)\n",
    "from tqdm import tqdm\n",
    "presentationDict = getDataDict(presentation,['cle','presenation'])\n",
    "for el in tqdm(presentationDict):\n",
    "    for key in  el.items():\n",
    "        astro.moveTo(1039,183)\n",
    "        astro.click()\n",
    "        astro.hotkey('ctrl','enter')\n",
    "        pyperclip.copy(key[1][0])\n",
    "        astro.hotkey('ctrl','v')\n",
    "        astro.press('enter')\n",
    "\n",
    "        "
   ]
  },
  {
   "cell_type": "code",
   "execution_count": 3,
   "metadata": {},
   "outputs": [],
   "source": [
    "Labo = pd.read_excel('mdbxls/added/NewLabo - add.xlsx')\n"
   ]
  },
  {
   "cell_type": "code",
   "execution_count": 154,
   "metadata": {},
   "outputs": [
    {
     "data": {
      "text/plain": [
       "Point(x=1713, y=-119)"
      ]
     },
     "execution_count": 154,
     "metadata": {},
     "output_type": "execute_result"
    }
   ],
   "source": [
    "astro.position()"
   ]
  },
  {
   "cell_type": "code",
   "execution_count": 155,
   "metadata": {},
   "outputs": [
    {
     "name": "stderr",
     "output_type": "stream",
     "text": [
      "100%|██████████| 120/120 [04:04<00:00,  2.04s/it]\n"
     ]
    }
   ],
   "source": [
    "time.sleep(1)\n",
    "def checkNAN(text):\n",
    "    emptyStr = ''\n",
    "    if text == 'nan' or text == 'NAN' or text == None :\n",
    "        emptyStr = 'Indisponible'\n",
    "    else:\n",
    "        emptyStr = text\n",
    "    return emptyStr\n",
    "\n",
    "presentationDict = getDataDict(Labo,['CleLabo','RaisonSociale','Conatact','Tel','Fax','Adresse','EMail','Web'])\n",
    "for el in tqdm(presentationDict):\n",
    "    for key in  el.items():\n",
    "        RaisonSociale = checkNAN(key[1][0])\n",
    "        Conatact = checkNAN(key[1][1])\n",
    "        Adresse = checkNAN(key[1][4])\n",
    "        Tel = checkNAN(key[1][2])\n",
    "        Fax = checkNAN(key[1][3])\n",
    "        EMail = checkNAN(key[1][5])\n",
    "        Web = checkNAN(key[1][6])\n",
    "        astro.moveTo(1713,-119)\n",
    "        astro.click()\n",
    "        pyperclip.copy(RaisonSociale)\n",
    "        astro.hotkey('ctrl','v')\n",
    "        astro.press('tab')\n",
    "        pyperclip.copy(Conatact)\n",
    "        astro.hotkey('ctrl','v')\n",
    "        astro.press('tab')\n",
    "        pyperclip.copy(Adresse)\n",
    "        astro.hotkey('ctrl','v')\n",
    "        astro.press('tab')\n",
    "        pyperclip.copy(Tel)\n",
    "        astro.hotkey('ctrl','v')\n",
    "        astro.press('tab')\n",
    "        pyperclip.copy(Fax)\n",
    "        astro.hotkey('ctrl','v')\n",
    "        astro.press('tab')\n",
    "        pyperclip.copy(EMail)\n",
    "        astro.hotkey('ctrl','v')\n",
    "        astro.press('tab')\n",
    "        pyperclip.copy(Web)\n",
    "        astro.hotkey('ctrl','v')\n",
    "        astro.press('tab')\n",
    "        astro.press(\"enter\")\n",
    "\n",
    "        "
   ]
  },
  {
   "cell_type": "code",
   "execution_count": 4,
   "metadata": {},
   "outputs": [],
   "source": [
    "DCI = pd.read_excel('mdbxls/added/NEWDCI - add.xlsx')\n"
   ]
  },
  {
   "cell_type": "code",
   "execution_count": 6,
   "metadata": {},
   "outputs": [
    {
     "name": "stderr",
     "output_type": "stream",
     "text": [
      "100%|██████████| 1055/1055 [10:13<00:00,  1.72it/s]\n"
     ]
    }
   ],
   "source": [
    "time.sleep(1)\n",
    "from tqdm import tqdm\n",
    "presentationDict = getDataDict(DCI,['cle','presenation'])\n",
    "for el in tqdm(presentationDict[40:]):\n",
    "    for key in  el.items():\n",
    "        astro.moveTo(1039,183)\n",
    "        astro.click()\n",
    "        astro.hotkey('ctrl','enter')\n",
    "        pyperclip.copy(key[1][0])\n",
    "        astro.hotkey('ctrl','v')\n",
    "        astro.press('enter')\n",
    "\n",
    "        "
   ]
  },
  {
   "cell_type": "code",
   "execution_count": 5,
   "metadata": {},
   "outputs": [],
   "source": [
    "NEWDCI = pd.read_excel(r'mdbxls/NEWDCI.xlsx')\n",
    "NewLabo = pd.read_excel(r'mdbxls/NewLabo.xlsx')\n",
    "NewPresentation = pd.read_excel(r'mdbxls/NewPresentation.xlsx')"
   ]
  },
  {
   "cell_type": "code",
   "execution_count": 6,
   "metadata": {},
   "outputs": [],
   "source": [
    "DCI = getDataDict(NEWDCI,['CleDCI','DCI'])\n",
    "LABO = getDataDict(NewLabo,['CleLabo','RaisonSociale','Conatact','Tel','Fax','Adresse','EMail','Web'])\n",
    "PRESENTATION = getDataDict(NewPresentation,['ClePresentation','Presentation'])"
   ]
  },
  {
   "cell_type": "code",
   "execution_count": 7,
   "metadata": {},
   "outputs": [
    {
     "data": {
      "text/plain": [
       "{612: ['PACLITAXEL']}"
      ]
     },
     "execution_count": 7,
     "metadata": {},
     "output_type": "execute_result"
    }
   ],
   "source": [
    "DCI[546]"
   ]
  },
  {
   "cell_type": "code",
   "execution_count": 8,
   "metadata": {},
   "outputs": [],
   "source": [
    "DCIArr = []\n",
    "LaboArr = []\n",
    "PresentationArr = []\n"
   ]
  },
  {
   "cell_type": "code",
   "execution_count": 9,
   "metadata": {},
   "outputs": [],
   "source": [
    "for dci in DCI:\n",
    "  for key in dci.items():\n",
    "    s_tr = f\"{key[0]}-{key[1][0]}\"\n",
    "    DCIArr.append(s_tr)"
   ]
  },
  {
   "cell_type": "code",
   "execution_count": 10,
   "metadata": {},
   "outputs": [],
   "source": [
    "for labo in LABO:\n",
    "  for key in labo.items():\n",
    "    s_tr = f\"{key[0]}-{key[1][0]}\"\n",
    "    LaboArr.append(s_tr)"
   ]
  },
  {
   "cell_type": "code",
   "execution_count": 11,
   "metadata": {},
   "outputs": [],
   "source": [
    "for present in PRESENTATION:\n",
    "  for key in present.items():\n",
    "    s_tr = f\"{key[0]}-{key[1][0]}\"\n",
    "    PresentationArr.append(s_tr)"
   ]
  },
  {
   "cell_type": "code",
   "execution_count": 12,
   "metadata": {},
   "outputs": [],
   "source": [
    "import cleantext\n",
    "import re\n",
    "def getIdexFromStrArr(arr,text):\n",
    "  result = [ i for i, word in enumerate(arr) if word.startswith(text)]\n",
    "  return cleantext.clean(arr[result[0]])"
   ]
  },
  {
   "cell_type": "code",
   "execution_count": 13,
   "metadata": {},
   "outputs": [
    {
     "data": {
      "text/plain": [
       "'oxyd de zinchuil de foie de moru'"
      ]
     },
     "execution_count": 13,
     "metadata": {},
     "output_type": "execute_result"
    }
   ],
   "source": [
    "getIdexFromStrArr(DCIArr,'600')"
   ]
  },
  {
   "cell_type": "code",
   "execution_count": 14,
   "metadata": {},
   "outputs": [],
   "source": [
    "newDrogs = pd.read_excel('mdbxls/added/NewDico-add.xlsx')"
   ]
  },
  {
   "cell_type": "code",
   "execution_count": 15,
   "metadata": {},
   "outputs": [],
   "source": [
    "data = getDataDict(newDrogs,['CleDico','Code','Specialite','Dose','CleDCI','ClePresentation','CleLabo','cleList','bPsychothrope','numenrg','data','Condit','bAventi','bCounsd', 'dAdmin'])"
   ]
  },
  {
   "cell_type": "code",
   "execution_count": 19,
   "metadata": {},
   "outputs": [
    {
     "data": {
      "text/plain": [
       "Point(x=1736, y=-64)"
      ]
     },
     "execution_count": 19,
     "metadata": {},
     "output_type": "execute_result"
    }
   ],
   "source": [
    "astro.position()"
   ]
  },
  {
   "cell_type": "code",
   "execution_count": 182,
   "metadata": {},
   "outputs": [
    {
     "data": {
      "text/plain": [
       "4943"
      ]
     },
     "execution_count": 182,
     "metadata": {},
     "output_type": "execute_result"
    }
   ],
   "source": [
    "len(data)"
   ]
  },
  {
   "cell_type": "code",
   "execution_count": 20,
   "metadata": {},
   "outputs": [
    {
     "name": "stderr",
     "output_type": "stream",
     "text": [
      "100%|██████████| 732/732 [1:21:44<00:00,  6.70s/it]\n"
     ]
    }
   ],
   "source": [
    "for el in tqdm(data[4211:4943]):\n",
    "    for key in el.items():\n",
    "       \n",
    "        code = key[1][0] \n",
    "        Specialite = key[1][1] \n",
    "        Dose = key[1][2]\n",
    "        DCI = getIdexFromStrArr(DCIArr,str(key[1][3]))\n",
    "        present = getIdexFromStrArr(PresentationArr,str(key[1][4]))\n",
    "        Labo = getIdexFromStrArr(LaboArr,str(key[1][5]))\n",
    "        astro.moveTo(1736,-67)\n",
    "        astro.click()\n",
    "        astro.press('tab',3)\n",
    "        astro.press('enter')\n",
    "\n",
    "        pyperclip.copy(Specialite)\n",
    "        time.sleep(0.3)\n",
    "        astro.hotkey('ctrl','v')\n",
    "        astro.press('tab')\n",
    "\n",
    "        pyperclip.copy(DCI)\n",
    "        astro.press('tab')\n",
    "        astro.press('enter')\n",
    "        astro.press('down')\n",
    "        astro.press('enter')\n",
    "        astro.hotkey('ctrl','v')\n",
    "        time.sleep(0.3)\n",
    "        astro.press('enter')\n",
    "        astro.press('tab',3)\n",
    "\n",
    "        pyperclip.copy(Dose)\n",
    "        time.sleep(0.3)\n",
    "        astro.hotkey('ctrl','v')\n",
    "        astro.press('tab')\n",
    "\n",
    "        pyperclip.copy(present.upper())\n",
    "        astro.press('tab')\n",
    "        astro.press('enter')\n",
    "        astro.press('down')\n",
    "        astro.press('enter')\n",
    "        astro.hotkey('ctrl','v')\n",
    "        astro.press('enter')\n",
    "        time.sleep(0.3)\n",
    "        astro.press('tab',7)\n",
    "\n",
    "\n",
    "        pyperclip.copy(Labo.split(' ')[0])\n",
    "        astro.hotkey('ctrl','v')\n",
    "        # astro.press('down')\n",
    "        time.sleep(0.3)\n",
    "        astro.press('enter')\n",
    "\n",
    "        astro.moveTo(1922,22)\n",
    "        astro.click()\n",
    "\n",
    "        pyperclip.copy(code)\n",
    "        astro.hotkey('ctrl','v')\n",
    "        time.sleep(0.3)\n",
    "\n",
    "        astro.press('enter')\n",
    "        time.sleep(0.3)         \n",
    "        astro.press('enter')\n",
    "        \n",
    "        time.sleep(1)\n",
    "        astro.press('esc',2)\n",
    "    "
   ]
  },
  {
   "cell_type": "code",
   "execution_count": 3,
   "metadata": {},
   "outputs": [],
   "source": [
    "lot1 = pd.read_excel('lot1.xlsx')"
   ]
  },
  {
   "cell_type": "code",
   "execution_count": 4,
   "metadata": {},
   "outputs": [],
   "source": [
    "lot1Dict = getDataDict(lot1,['name','qty','pu','%R','Prix AR','TVA','PPA','N°Lot','SHP','Peremp',''])"
   ]
  },
  {
   "cell_type": "code",
   "execution_count": 5,
   "metadata": {},
   "outputs": [],
   "source": [
    "ConformPos = astro.position()"
   ]
  },
  {
   "cell_type": "code",
   "execution_count": 64,
   "metadata": {},
   "outputs": [
    {
     "name": "stdout",
     "output_type": "stream",
     "text": [
      "('INPHALAC SP', [1, 229.08, 100, 229.08, 0, 274.9, '8B11', 2.5, '31/12/21', nan])\n"
     ]
    }
   ],
   "source": [
    "import datetime\n",
    "for dic in lot1Dict[10:]:\n",
    "    for key in dic.items():\n",
    "        print(key)\n",
    "        astro.moveTo(1075,-94)\n",
    "        astro.click()\n",
    "        astro.press('tab',2)\n",
    "        pyperclip.copy(key[1][6])\n",
    "        astro.hotkey('ctrl','v')\n",
    "        astro.press('tab')\n",
    "        # get data from day obj \n",
    "        if type(key[1][8]) == str:\n",
    "            day = key[1][8][:1]\n",
    "            month = key[1][8][1:2]\n",
    "            year = key[1][8][2:3]\n",
    "\n",
    "            astro.write(day)\n",
    "            astro.press('right')\n",
    "\n",
    "            astro.write(month)\n",
    "            \n",
    "            astro.press('right')\n",
    "            astro.write(str(year))\n",
    "        else:\n",
    "            day = key[1][8].day\n",
    "            month = key[1][8].month\n",
    "            year = key[1][8].year\n",
    "\n",
    "            astro.write('0'+str(day))\n",
    "            astro.press('right')\n",
    "            if len(str(month)) > 1:\n",
    "                astro.write(str(month))\n",
    "            else:\n",
    "                astro.write('0'+str(month))\n",
    "            \n",
    "            astro.press('right')\n",
    "            astro.write(str(year))\n",
    "\n",
    "        astro.press('tab')\n",
    "\n",
    "        astro.write(str(key[1][1]))\n",
    "        astro.press('tab')\n",
    "        \n",
    "        astro.write(str(key[1][2]))\n",
    "        astro.press('tab')\n",
    "\n",
    "        astro.write(str(key[1][3]))\n",
    "        astro.press('tab')\n",
    "\n",
    "        astro.write(str(key[1][7]))\n",
    "        astro.press('tab')\n",
    "\n",
    "        astro.write(str(key[1][4]))\n",
    "        astro.press('tab')\n",
    "\n",
    "\n",
    "        astro.write(str(key[1][5]))\n",
    "\n",
    "\n",
    "        time.sleep(0.5)\n",
    "\n",
    "        astro.moveTo(1770,-39)\n",
    "        astro.click()\n",
    "\n",
    "        # desination = key[0].split('')\n",
    "        time.sleep(0.5)\n",
    "        pyperclip.copy(cleantext.clean(key[0],numbers=False , punct=True))\n",
    "        astro.hotkey('ctrl','v')\n",
    "        time.sleep(0.5)\n",
    "       \n",
    "    break"
   ]
  },
  {
   "cell_type": "code",
   "execution_count": 43,
   "metadata": {},
   "outputs": [
    {
     "data": {
      "text/plain": [
       "'BRONCHOCALM sp ENF FL125ML'"
      ]
     },
     "execution_count": 43,
     "metadata": {},
     "output_type": "execute_result"
    }
   ],
   "source": [
    "import cleantext\n",
    "\n"
   ]
  },
  {
   "cell_type": "code",
   "execution_count": 3,
   "metadata": {},
   "outputs": [
    {
     "data": {
      "text/plain": [
       "Point(x=1634, y=-12)"
      ]
     },
     "execution_count": 3,
     "metadata": {},
     "output_type": "execute_result"
    }
   ],
   "source": [
    "import pyautogui\n",
    "pyautogui.position()"
   ]
  }
 ],
 "metadata": {
  "kernelspec": {
   "display_name": "Python 3.9.12 ('.venv': venv)",
   "language": "python",
   "name": "python3"
  },
  "language_info": {
   "codemirror_mode": {
    "name": "ipython",
    "version": 3
   },
   "file_extension": ".py",
   "mimetype": "text/x-python",
   "name": "python",
   "nbconvert_exporter": "python",
   "pygments_lexer": "ipython3",
   "version": "3.9.12"
  },
  "orig_nbformat": 4,
  "vscode": {
   "interpreter": {
    "hash": "6cdec638393e9b8c0942c040c719a28b3b41e8f4bf424eede5feee8b71ae609d"
   }
  }
 },
 "nbformat": 4,
 "nbformat_minor": 2
}
